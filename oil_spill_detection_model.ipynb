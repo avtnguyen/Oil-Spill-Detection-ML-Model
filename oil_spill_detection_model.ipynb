{
  "metadata": {
    "kernelspec": {
      "language": "python",
      "display_name": "Python 3",
      "name": "python3"
    },
    "language_info": {
      "name": "python",
      "version": "3.7.12",
      "mimetype": "text/x-python",
      "codemirror_mode": {
        "name": "ipython",
        "version": 3
      },
      "pygments_lexer": "ipython3",
      "nbconvert_exporter": "python",
      "file_extension": ".py"
    },
    "colab": {
      "provenance": [],
      "toc_visible": true
    },
    "gpuClass": "standard"
  },
  "nbformat_minor": 0,
  "nbformat": 4,
  "cells": [
    {
      "cell_type": "code",
      "source": [
        "#Upload data file:\n",
        "from google.colab import files\n",
        "uploaded = files.upload()"
      ],
      "metadata": {
        "colab": {
          "base_uri": "https://localhost:8080/",
          "height": 72
        },
        "id": "OLantba_PD8M",
        "outputId": "d71e7305-2d1f-4cf9-965d-fbd3c9c527a1"
      },
      "execution_count": null,
      "outputs": [
        {
          "output_type": "display_data",
          "data": {
            "text/plain": [
              "<IPython.core.display.HTML object>"
            ],
            "text/html": [
              "\n",
              "     <input type=\"file\" id=\"files-d28e69da-6d9f-4ddc-941c-c70395043a33\" name=\"files[]\" multiple disabled\n",
              "        style=\"border:none\" />\n",
              "     <output id=\"result-d28e69da-6d9f-4ddc-941c-c70395043a33\">\n",
              "      Upload widget is only available when the cell has been executed in the\n",
              "      current browser session. Please rerun this cell to enable.\n",
              "      </output>\n",
              "      <script>// Copyright 2017 Google LLC\n",
              "//\n",
              "// Licensed under the Apache License, Version 2.0 (the \"License\");\n",
              "// you may not use this file except in compliance with the License.\n",
              "// You may obtain a copy of the License at\n",
              "//\n",
              "//      http://www.apache.org/licenses/LICENSE-2.0\n",
              "//\n",
              "// Unless required by applicable law or agreed to in writing, software\n",
              "// distributed under the License is distributed on an \"AS IS\" BASIS,\n",
              "// WITHOUT WARRANTIES OR CONDITIONS OF ANY KIND, either express or implied.\n",
              "// See the License for the specific language governing permissions and\n",
              "// limitations under the License.\n",
              "\n",
              "/**\n",
              " * @fileoverview Helpers for google.colab Python module.\n",
              " */\n",
              "(function(scope) {\n",
              "function span(text, styleAttributes = {}) {\n",
              "  const element = document.createElement('span');\n",
              "  element.textContent = text;\n",
              "  for (const key of Object.keys(styleAttributes)) {\n",
              "    element.style[key] = styleAttributes[key];\n",
              "  }\n",
              "  return element;\n",
              "}\n",
              "\n",
              "// Max number of bytes which will be uploaded at a time.\n",
              "const MAX_PAYLOAD_SIZE = 100 * 1024;\n",
              "\n",
              "function _uploadFiles(inputId, outputId) {\n",
              "  const steps = uploadFilesStep(inputId, outputId);\n",
              "  const outputElement = document.getElementById(outputId);\n",
              "  // Cache steps on the outputElement to make it available for the next call\n",
              "  // to uploadFilesContinue from Python.\n",
              "  outputElement.steps = steps;\n",
              "\n",
              "  return _uploadFilesContinue(outputId);\n",
              "}\n",
              "\n",
              "// This is roughly an async generator (not supported in the browser yet),\n",
              "// where there are multiple asynchronous steps and the Python side is going\n",
              "// to poll for completion of each step.\n",
              "// This uses a Promise to block the python side on completion of each step,\n",
              "// then passes the result of the previous step as the input to the next step.\n",
              "function _uploadFilesContinue(outputId) {\n",
              "  const outputElement = document.getElementById(outputId);\n",
              "  const steps = outputElement.steps;\n",
              "\n",
              "  const next = steps.next(outputElement.lastPromiseValue);\n",
              "  return Promise.resolve(next.value.promise).then((value) => {\n",
              "    // Cache the last promise value to make it available to the next\n",
              "    // step of the generator.\n",
              "    outputElement.lastPromiseValue = value;\n",
              "    return next.value.response;\n",
              "  });\n",
              "}\n",
              "\n",
              "/**\n",
              " * Generator function which is called between each async step of the upload\n",
              " * process.\n",
              " * @param {string} inputId Element ID of the input file picker element.\n",
              " * @param {string} outputId Element ID of the output display.\n",
              " * @return {!Iterable<!Object>} Iterable of next steps.\n",
              " */\n",
              "function* uploadFilesStep(inputId, outputId) {\n",
              "  const inputElement = document.getElementById(inputId);\n",
              "  inputElement.disabled = false;\n",
              "\n",
              "  const outputElement = document.getElementById(outputId);\n",
              "  outputElement.innerHTML = '';\n",
              "\n",
              "  const pickedPromise = new Promise((resolve) => {\n",
              "    inputElement.addEventListener('change', (e) => {\n",
              "      resolve(e.target.files);\n",
              "    });\n",
              "  });\n",
              "\n",
              "  const cancel = document.createElement('button');\n",
              "  inputElement.parentElement.appendChild(cancel);\n",
              "  cancel.textContent = 'Cancel upload';\n",
              "  const cancelPromise = new Promise((resolve) => {\n",
              "    cancel.onclick = () => {\n",
              "      resolve(null);\n",
              "    };\n",
              "  });\n",
              "\n",
              "  // Wait for the user to pick the files.\n",
              "  const files = yield {\n",
              "    promise: Promise.race([pickedPromise, cancelPromise]),\n",
              "    response: {\n",
              "      action: 'starting',\n",
              "    }\n",
              "  };\n",
              "\n",
              "  cancel.remove();\n",
              "\n",
              "  // Disable the input element since further picks are not allowed.\n",
              "  inputElement.disabled = true;\n",
              "\n",
              "  if (!files) {\n",
              "    return {\n",
              "      response: {\n",
              "        action: 'complete',\n",
              "      }\n",
              "    };\n",
              "  }\n",
              "\n",
              "  for (const file of files) {\n",
              "    const li = document.createElement('li');\n",
              "    li.append(span(file.name, {fontWeight: 'bold'}));\n",
              "    li.append(span(\n",
              "        `(${file.type || 'n/a'}) - ${file.size} bytes, ` +\n",
              "        `last modified: ${\n",
              "            file.lastModifiedDate ? file.lastModifiedDate.toLocaleDateString() :\n",
              "                                    'n/a'} - `));\n",
              "    const percent = span('0% done');\n",
              "    li.appendChild(percent);\n",
              "\n",
              "    outputElement.appendChild(li);\n",
              "\n",
              "    const fileDataPromise = new Promise((resolve) => {\n",
              "      const reader = new FileReader();\n",
              "      reader.onload = (e) => {\n",
              "        resolve(e.target.result);\n",
              "      };\n",
              "      reader.readAsArrayBuffer(file);\n",
              "    });\n",
              "    // Wait for the data to be ready.\n",
              "    let fileData = yield {\n",
              "      promise: fileDataPromise,\n",
              "      response: {\n",
              "        action: 'continue',\n",
              "      }\n",
              "    };\n",
              "\n",
              "    // Use a chunked sending to avoid message size limits. See b/62115660.\n",
              "    let position = 0;\n",
              "    do {\n",
              "      const length = Math.min(fileData.byteLength - position, MAX_PAYLOAD_SIZE);\n",
              "      const chunk = new Uint8Array(fileData, position, length);\n",
              "      position += length;\n",
              "\n",
              "      const base64 = btoa(String.fromCharCode.apply(null, chunk));\n",
              "      yield {\n",
              "        response: {\n",
              "          action: 'append',\n",
              "          file: file.name,\n",
              "          data: base64,\n",
              "        },\n",
              "      };\n",
              "\n",
              "      let percentDone = fileData.byteLength === 0 ?\n",
              "          100 :\n",
              "          Math.round((position / fileData.byteLength) * 100);\n",
              "      percent.textContent = `${percentDone}% done`;\n",
              "\n",
              "    } while (position < fileData.byteLength);\n",
              "  }\n",
              "\n",
              "  // All done.\n",
              "  yield {\n",
              "    response: {\n",
              "      action: 'complete',\n",
              "    }\n",
              "  };\n",
              "}\n",
              "\n",
              "scope.google = scope.google || {};\n",
              "scope.google.colab = scope.google.colab || {};\n",
              "scope.google.colab._files = {\n",
              "  _uploadFiles,\n",
              "  _uploadFilesContinue,\n",
              "};\n",
              "})(self);\n",
              "</script> "
            ]
          },
          "metadata": {}
        },
        {
          "output_type": "stream",
          "name": "stdout",
          "text": [
            "Saving oil_spill.csv to oil_spill (3).csv\n"
          ]
        }
      ]
    },
    {
      "cell_type": "code",
      "source": [
        "# Import libraries:\n",
        "import numpy as np \n",
        "import pandas as pd \n",
        "import seaborn as sns\n",
        "import matplotlib.pyplot as plt\n"
      ],
      "metadata": {
        "_uuid": "8f2839f25d086af736a60e9eeb907d3b93b6e0e5",
        "_cell_guid": "b1076dfc-b9ad-4769-8c92-a6c4dae69d19",
        "execution": {
          "iopub.status.busy": "2022-12-01T15:58:40.744893Z",
          "iopub.execute_input": "2022-12-01T15:58:40.745172Z",
          "iopub.status.idle": "2022-12-01T15:58:41.164941Z",
          "shell.execute_reply.started": "2022-12-01T15:58:40.745113Z",
          "shell.execute_reply": "2022-12-01T15:58:41.164046Z"
        },
        "trusted": true,
        "id": "jrmf9yudOuMB"
      },
      "execution_count": null,
      "outputs": []
    },
    {
      "cell_type": "markdown",
      "source": [
        "### Read the data"
      ],
      "metadata": {
        "id": "TD3BWpO9OuME"
      }
    },
    {
      "cell_type": "code",
      "source": [
        "# Read oil spill data:\n",
        "df = pd.read_csv(\"oil_spill.csv\")\n",
        "df.head()"
      ],
      "metadata": {
        "execution": {
          "iopub.status.busy": "2022-12-01T15:58:41.166055Z",
          "iopub.execute_input": "2022-12-01T15:58:41.167075Z",
          "iopub.status.idle": "2022-12-01T15:58:41.204734Z",
          "shell.execute_reply.started": "2022-12-01T15:58:41.167040Z",
          "shell.execute_reply": "2022-12-01T15:58:41.203255Z"
        },
        "trusted": true,
        "colab": {
          "base_uri": "https://localhost:8080/",
          "height": 299
        },
        "id": "z9gj3uQ5OuMF",
        "outputId": "13d4402d-8cc1-454b-fd08-5ed2b9730727"
      },
      "execution_count": null,
      "outputs": [
        {
          "output_type": "execute_result",
          "data": {
            "text/plain": [
              "   f_1    f_2      f_3     f_4  f_5       f_6    f_7   f_8      f_9  f_10  \\\n",
              "0    1   2558  1506.09  456.63   90   6395000  40.88  7.89  29780.0  0.19   \n",
              "1    2  22325    79.11  841.03  180  55812500  51.11  1.21  61900.0  0.02   \n",
              "2    3    115  1449.85  608.43   88    287500  40.42  7.34   3340.0  0.18   \n",
              "3    4   1201  1562.53  295.65   66   3002500  42.40  7.97  18030.0  0.19   \n",
              "4    5    312   950.27  440.86   37    780000  41.43  7.03   3350.0  0.17   \n",
              "\n",
              "   ...     f_41      f_42     f_43     f_44   f_45  f_46      f_47   f_48  \\\n",
              "0  ...  2850.00   1000.00   763.16   135.46   3.73     0  33243.19  65.74   \n",
              "1  ...  5750.00  11500.00  9593.48  1648.80   0.60     0  51572.04  65.73   \n",
              "2  ...  1400.00    250.00   150.00    45.13   9.33     1  31692.84  65.81   \n",
              "3  ...  6041.52    761.58   453.21   144.97  13.33     1  37696.21  65.67   \n",
              "4  ...  1320.04    710.63   512.54   109.16   2.58     0  29038.17  65.66   \n",
              "\n",
              "   f_49  target  \n",
              "0  7.95       1  \n",
              "1  6.26       0  \n",
              "2  7.84       1  \n",
              "3  8.07       1  \n",
              "4  7.35       0  \n",
              "\n",
              "[5 rows x 50 columns]"
            ],
            "text/html": [
              "\n",
              "  <div id=\"df-cf05dd07-e69e-403b-a279-24577609daba\">\n",
              "    <div class=\"colab-df-container\">\n",
              "      <div>\n",
              "<style scoped>\n",
              "    .dataframe tbody tr th:only-of-type {\n",
              "        vertical-align: middle;\n",
              "    }\n",
              "\n",
              "    .dataframe tbody tr th {\n",
              "        vertical-align: top;\n",
              "    }\n",
              "\n",
              "    .dataframe thead th {\n",
              "        text-align: right;\n",
              "    }\n",
              "</style>\n",
              "<table border=\"1\" class=\"dataframe\">\n",
              "  <thead>\n",
              "    <tr style=\"text-align: right;\">\n",
              "      <th></th>\n",
              "      <th>f_1</th>\n",
              "      <th>f_2</th>\n",
              "      <th>f_3</th>\n",
              "      <th>f_4</th>\n",
              "      <th>f_5</th>\n",
              "      <th>f_6</th>\n",
              "      <th>f_7</th>\n",
              "      <th>f_8</th>\n",
              "      <th>f_9</th>\n",
              "      <th>f_10</th>\n",
              "      <th>...</th>\n",
              "      <th>f_41</th>\n",
              "      <th>f_42</th>\n",
              "      <th>f_43</th>\n",
              "      <th>f_44</th>\n",
              "      <th>f_45</th>\n",
              "      <th>f_46</th>\n",
              "      <th>f_47</th>\n",
              "      <th>f_48</th>\n",
              "      <th>f_49</th>\n",
              "      <th>target</th>\n",
              "    </tr>\n",
              "  </thead>\n",
              "  <tbody>\n",
              "    <tr>\n",
              "      <th>0</th>\n",
              "      <td>1</td>\n",
              "      <td>2558</td>\n",
              "      <td>1506.09</td>\n",
              "      <td>456.63</td>\n",
              "      <td>90</td>\n",
              "      <td>6395000</td>\n",
              "      <td>40.88</td>\n",
              "      <td>7.89</td>\n",
              "      <td>29780.0</td>\n",
              "      <td>0.19</td>\n",
              "      <td>...</td>\n",
              "      <td>2850.00</td>\n",
              "      <td>1000.00</td>\n",
              "      <td>763.16</td>\n",
              "      <td>135.46</td>\n",
              "      <td>3.73</td>\n",
              "      <td>0</td>\n",
              "      <td>33243.19</td>\n",
              "      <td>65.74</td>\n",
              "      <td>7.95</td>\n",
              "      <td>1</td>\n",
              "    </tr>\n",
              "    <tr>\n",
              "      <th>1</th>\n",
              "      <td>2</td>\n",
              "      <td>22325</td>\n",
              "      <td>79.11</td>\n",
              "      <td>841.03</td>\n",
              "      <td>180</td>\n",
              "      <td>55812500</td>\n",
              "      <td>51.11</td>\n",
              "      <td>1.21</td>\n",
              "      <td>61900.0</td>\n",
              "      <td>0.02</td>\n",
              "      <td>...</td>\n",
              "      <td>5750.00</td>\n",
              "      <td>11500.00</td>\n",
              "      <td>9593.48</td>\n",
              "      <td>1648.80</td>\n",
              "      <td>0.60</td>\n",
              "      <td>0</td>\n",
              "      <td>51572.04</td>\n",
              "      <td>65.73</td>\n",
              "      <td>6.26</td>\n",
              "      <td>0</td>\n",
              "    </tr>\n",
              "    <tr>\n",
              "      <th>2</th>\n",
              "      <td>3</td>\n",
              "      <td>115</td>\n",
              "      <td>1449.85</td>\n",
              "      <td>608.43</td>\n",
              "      <td>88</td>\n",
              "      <td>287500</td>\n",
              "      <td>40.42</td>\n",
              "      <td>7.34</td>\n",
              "      <td>3340.0</td>\n",
              "      <td>0.18</td>\n",
              "      <td>...</td>\n",
              "      <td>1400.00</td>\n",
              "      <td>250.00</td>\n",
              "      <td>150.00</td>\n",
              "      <td>45.13</td>\n",
              "      <td>9.33</td>\n",
              "      <td>1</td>\n",
              "      <td>31692.84</td>\n",
              "      <td>65.81</td>\n",
              "      <td>7.84</td>\n",
              "      <td>1</td>\n",
              "    </tr>\n",
              "    <tr>\n",
              "      <th>3</th>\n",
              "      <td>4</td>\n",
              "      <td>1201</td>\n",
              "      <td>1562.53</td>\n",
              "      <td>295.65</td>\n",
              "      <td>66</td>\n",
              "      <td>3002500</td>\n",
              "      <td>42.40</td>\n",
              "      <td>7.97</td>\n",
              "      <td>18030.0</td>\n",
              "      <td>0.19</td>\n",
              "      <td>...</td>\n",
              "      <td>6041.52</td>\n",
              "      <td>761.58</td>\n",
              "      <td>453.21</td>\n",
              "      <td>144.97</td>\n",
              "      <td>13.33</td>\n",
              "      <td>1</td>\n",
              "      <td>37696.21</td>\n",
              "      <td>65.67</td>\n",
              "      <td>8.07</td>\n",
              "      <td>1</td>\n",
              "    </tr>\n",
              "    <tr>\n",
              "      <th>4</th>\n",
              "      <td>5</td>\n",
              "      <td>312</td>\n",
              "      <td>950.27</td>\n",
              "      <td>440.86</td>\n",
              "      <td>37</td>\n",
              "      <td>780000</td>\n",
              "      <td>41.43</td>\n",
              "      <td>7.03</td>\n",
              "      <td>3350.0</td>\n",
              "      <td>0.17</td>\n",
              "      <td>...</td>\n",
              "      <td>1320.04</td>\n",
              "      <td>710.63</td>\n",
              "      <td>512.54</td>\n",
              "      <td>109.16</td>\n",
              "      <td>2.58</td>\n",
              "      <td>0</td>\n",
              "      <td>29038.17</td>\n",
              "      <td>65.66</td>\n",
              "      <td>7.35</td>\n",
              "      <td>0</td>\n",
              "    </tr>\n",
              "  </tbody>\n",
              "</table>\n",
              "<p>5 rows × 50 columns</p>\n",
              "</div>\n",
              "      <button class=\"colab-df-convert\" onclick=\"convertToInteractive('df-cf05dd07-e69e-403b-a279-24577609daba')\"\n",
              "              title=\"Convert this dataframe to an interactive table.\"\n",
              "              style=\"display:none;\">\n",
              "        \n",
              "  <svg xmlns=\"http://www.w3.org/2000/svg\" height=\"24px\"viewBox=\"0 0 24 24\"\n",
              "       width=\"24px\">\n",
              "    <path d=\"M0 0h24v24H0V0z\" fill=\"none\"/>\n",
              "    <path d=\"M18.56 5.44l.94 2.06.94-2.06 2.06-.94-2.06-.94-.94-2.06-.94 2.06-2.06.94zm-11 1L8.5 8.5l.94-2.06 2.06-.94-2.06-.94L8.5 2.5l-.94 2.06-2.06.94zm10 10l.94 2.06.94-2.06 2.06-.94-2.06-.94-.94-2.06-.94 2.06-2.06.94z\"/><path d=\"M17.41 7.96l-1.37-1.37c-.4-.4-.92-.59-1.43-.59-.52 0-1.04.2-1.43.59L10.3 9.45l-7.72 7.72c-.78.78-.78 2.05 0 2.83L4 21.41c.39.39.9.59 1.41.59.51 0 1.02-.2 1.41-.59l7.78-7.78 2.81-2.81c.8-.78.8-2.07 0-2.86zM5.41 20L4 18.59l7.72-7.72 1.47 1.35L5.41 20z\"/>\n",
              "  </svg>\n",
              "      </button>\n",
              "      \n",
              "  <style>\n",
              "    .colab-df-container {\n",
              "      display:flex;\n",
              "      flex-wrap:wrap;\n",
              "      gap: 12px;\n",
              "    }\n",
              "\n",
              "    .colab-df-convert {\n",
              "      background-color: #E8F0FE;\n",
              "      border: none;\n",
              "      border-radius: 50%;\n",
              "      cursor: pointer;\n",
              "      display: none;\n",
              "      fill: #1967D2;\n",
              "      height: 32px;\n",
              "      padding: 0 0 0 0;\n",
              "      width: 32px;\n",
              "    }\n",
              "\n",
              "    .colab-df-convert:hover {\n",
              "      background-color: #E2EBFA;\n",
              "      box-shadow: 0px 1px 2px rgba(60, 64, 67, 0.3), 0px 1px 3px 1px rgba(60, 64, 67, 0.15);\n",
              "      fill: #174EA6;\n",
              "    }\n",
              "\n",
              "    [theme=dark] .colab-df-convert {\n",
              "      background-color: #3B4455;\n",
              "      fill: #D2E3FC;\n",
              "    }\n",
              "\n",
              "    [theme=dark] .colab-df-convert:hover {\n",
              "      background-color: #434B5C;\n",
              "      box-shadow: 0px 1px 3px 1px rgba(0, 0, 0, 0.15);\n",
              "      filter: drop-shadow(0px 1px 2px rgba(0, 0, 0, 0.3));\n",
              "      fill: #FFFFFF;\n",
              "    }\n",
              "  </style>\n",
              "\n",
              "      <script>\n",
              "        const buttonEl =\n",
              "          document.querySelector('#df-cf05dd07-e69e-403b-a279-24577609daba button.colab-df-convert');\n",
              "        buttonEl.style.display =\n",
              "          google.colab.kernel.accessAllowed ? 'block' : 'none';\n",
              "\n",
              "        async function convertToInteractive(key) {\n",
              "          const element = document.querySelector('#df-cf05dd07-e69e-403b-a279-24577609daba');\n",
              "          const dataTable =\n",
              "            await google.colab.kernel.invokeFunction('convertToInteractive',\n",
              "                                                     [key], {});\n",
              "          if (!dataTable) return;\n",
              "\n",
              "          const docLinkHtml = 'Like what you see? Visit the ' +\n",
              "            '<a target=\"_blank\" href=https://colab.research.google.com/notebooks/data_table.ipynb>data table notebook</a>'\n",
              "            + ' to learn more about interactive tables.';\n",
              "          element.innerHTML = '';\n",
              "          dataTable['output_type'] = 'display_data';\n",
              "          await google.colab.output.renderOutput(dataTable, element);\n",
              "          const docLink = document.createElement('div');\n",
              "          docLink.innerHTML = docLinkHtml;\n",
              "          element.appendChild(docLink);\n",
              "        }\n",
              "      </script>\n",
              "    </div>\n",
              "  </div>\n",
              "  "
            ]
          },
          "metadata": {},
          "execution_count": 72
        }
      ]
    },
    {
      "cell_type": "markdown",
      "source": [
        "### Check and explore the data"
      ],
      "metadata": {
        "id": "86F85ohROuMF"
      }
    },
    {
      "cell_type": "code",
      "source": [
        "print('Number of records:', df.shape[0])\n",
        "print('\\n Number of features:', df.shape[1]-1)\n",
        "print('\\n List of features:', list(df.columns[:-1]))\n",
        "print('\\n Target variable:',df.columns[-1])"
      ],
      "metadata": {
        "execution": {
          "iopub.status.busy": "2022-12-01T15:58:41.206339Z",
          "iopub.execute_input": "2022-12-01T15:58:41.206705Z",
          "iopub.status.idle": "2022-12-01T15:58:41.213950Z",
          "shell.execute_reply.started": "2022-12-01T15:58:41.206675Z",
          "shell.execute_reply": "2022-12-01T15:58:41.212533Z"
        },
        "trusted": true,
        "colab": {
          "base_uri": "https://localhost:8080/"
        },
        "id": "4aRXIXwBOuMF",
        "outputId": "e15fe50e-44ef-49a2-9c28-74f6350016b0"
      },
      "execution_count": null,
      "outputs": [
        {
          "output_type": "stream",
          "name": "stdout",
          "text": [
            "Number of records: 937\n",
            "\n",
            " Number of features: 49\n",
            "\n",
            " List of features: ['f_1', 'f_2', 'f_3', 'f_4', 'f_5', 'f_6', 'f_7', 'f_8', 'f_9', 'f_10', 'f_11', 'f_12', 'f_13', 'f_14', 'f_15', 'f_16', 'f_17', 'f_18', 'f_19', 'f_20', 'f_21', 'f_22', 'f_23', 'f_24', 'f_25', 'f_26', 'f_27', 'f_28', 'f_29', 'f_30', 'f_31', 'f_32', 'f_33', 'f_34', 'f_35', 'f_36', 'f_37', 'f_38', 'f_39', 'f_40', 'f_41', 'f_42', 'f_43', 'f_44', 'f_45', 'f_46', 'f_47', 'f_48', 'f_49']\n",
            "\n",
            " Target variable: target\n"
          ]
        }
      ]
    },
    {
      "cell_type": "code",
      "source": [
        "df.describe().transpose()"
      ],
      "metadata": {
        "execution": {
          "iopub.status.busy": "2022-12-01T15:58:41.216360Z",
          "iopub.execute_input": "2022-12-01T15:58:41.216692Z",
          "iopub.status.idle": "2022-12-01T15:58:41.346423Z",
          "shell.execute_reply.started": "2022-12-01T15:58:41.216663Z",
          "shell.execute_reply": "2022-12-01T15:58:41.345507Z"
        },
        "trusted": true,
        "colab": {
          "base_uri": "https://localhost:8080/",
          "height": 1000
        },
        "id": "7CyqmXZyOuMG",
        "outputId": "fd8ba2fb-0936-465e-ba92-d6afce793c3d"
      },
      "execution_count": null,
      "outputs": [
        {
          "output_type": "execute_result",
          "data": {
            "text/plain": [
              "        count           mean           std       min        25%        50%  \\\n",
              "f_1     937.0      81.588047  6.497673e+01      1.00      31.00      64.00   \n",
              "f_2     937.0     332.842049  1.931939e+03     10.00      20.00      65.00   \n",
              "f_3     937.0     698.707086  5.999656e+02      1.92      85.27     704.37   \n",
              "f_4     937.0     870.992209  5.227993e+02      1.00     444.20     761.28   \n",
              "f_5     937.0      84.121665  4.536177e+01      0.00      54.00      73.00   \n",
              "f_6     937.0  769696.378869  3.831151e+06  70312.00  125000.00  186300.00   \n",
              "f_7     937.0      43.242721  1.271840e+01     21.24      33.65      39.97   \n",
              "f_8     937.0       9.127887  3.588878e+00      0.83       6.75       8.20   \n",
              "f_9     937.0    3940.712914  8.167428e+03    667.00    1371.00    2090.00   \n",
              "f_10    937.0       0.221003  9.031555e-02      0.02       0.16       0.20   \n",
              "f_11    937.0     109.892743  6.146085e+01     41.00      83.50      99.80   \n",
              "f_12    937.0       0.251441  8.813206e-02      0.02       0.20       0.24   \n",
              "f_13    937.0       0.311217  1.213863e-01      0.03       0.24       0.29   \n",
              "f_14    937.0       0.484664  2.168587e-01      0.05       0.33       0.43   \n",
              "f_15    937.0       0.182892  8.294307e-02      0.01       0.13       0.17   \n",
              "f_16    937.0       0.301932  2.046949e-01      0.01       0.13       0.27   \n",
              "f_17    937.0      77.412561  3.043298e+02      4.82      21.09      34.72   \n",
              "f_18    937.0      31.151921  1.526933e+02      1.96      11.68      16.49   \n",
              "f_19    937.0       0.909039  6.754919e-01      0.13       0.37       0.70   \n",
              "f_20    937.0       0.228815  7.541045e-02      0.02       0.18       0.22   \n",
              "f_21    937.0       0.289317  1.053665e-01      0.02       0.23       0.27   \n",
              "f_22    937.0      76.085624  2.293747e+01     47.66      55.85      69.09   \n",
              "f_23    937.0       0.000000  0.000000e+00      0.00       0.00       0.00   \n",
              "f_24    937.0       0.642177  2.999451e-01      0.17       0.45       0.50   \n",
              "f_25    937.0     559.910694  6.124593e+02    132.78     221.97     351.67   \n",
              "f_26    937.0       0.578292  7.021573e-01     -0.71       0.18       0.87   \n",
              "f_27    937.0       7.498196  3.967966e+00      2.96       4.66       5.07   \n",
              "f_28    937.0       0.608399  8.452216e-01     -1.79       0.09       0.48   \n",
              "f_29    937.0       4.271110  3.619406e+00      1.44       2.64       3.33   \n",
              "f_30    937.0      -2.828420  1.621832e+00     -7.81      -3.25      -2.78   \n",
              "f_31    937.0      -0.428869  2.156168e-01     -1.37      -0.53      -0.38   \n",
              "f_32    937.0       1.824589  6.387222e-01      0.00       1.22       1.95   \n",
              "f_33    937.0       0.002785  4.898794e-02      0.00       0.00       0.00   \n",
              "f_34    937.0       1.821793  6.433976e-01      0.00       1.21       1.95   \n",
              "f_35    937.0      43.086446  9.516733e+01      3.00      12.00      23.00   \n",
              "f_36    937.0    2432.689434  5.219378e+03    360.00     720.00    1350.00   \n",
              "f_37    937.0       0.006894  5.337192e-03      0.00       0.00       0.01   \n",
              "f_38    937.0      31.241857  3.158484e+01      5.05      13.45      23.63   \n",
              "f_39    937.0      91.189968  2.198441e+01     64.00      78.00      82.00   \n",
              "f_40    937.0      60.547492  1.383890e+01     39.00      50.00      55.00   \n",
              "f_41    937.0     933.928677  1.001681e+03      0.00     450.00     685.42   \n",
              "f_42    937.0     427.565582  7.153916e+02      0.00     180.00     270.00   \n",
              "f_43    937.0     255.435902  5.343062e+02      0.00      90.80     161.65   \n",
              "f_44    937.0     106.112519  1.356177e+02      0.00      50.12      73.85   \n",
              "f_45    937.0       5.014002  5.029151e+00      0.00       2.37       3.85   \n",
              "f_46    937.0       0.128068  3.343443e-01      0.00       0.00       0.00   \n",
              "f_47    937.0    7985.718004  6.854505e+03   2051.50    3760.57    5509.43   \n",
              "f_48    937.0      61.694386  1.041281e+01     35.95      65.72      65.93   \n",
              "f_49    937.0       8.119723  2.908895e+00      5.81       6.34       7.22   \n",
              "target  937.0       0.043757  2.046625e-01      0.00       0.00       0.00   \n",
              "\n",
              "              75%          max  \n",
              "f_1        124.00       352.00  \n",
              "f_2        132.00     32389.00  \n",
              "f_3       1223.48      1893.08  \n",
              "f_4       1260.37      2724.57  \n",
              "f_5        117.00       180.00  \n",
              "f_6     330468.00  71315000.00  \n",
              "f_7         52.42        82.64  \n",
              "f_8         10.76        24.69  \n",
              "f_9       3435.00    160740.00  \n",
              "f_10         0.26         0.74  \n",
              "f_11       115.40       901.70  \n",
              "f_12         0.29         0.66  \n",
              "f_13         0.35         0.83  \n",
              "f_14         0.61         1.23  \n",
              "f_15         0.22         0.65  \n",
              "f_16         0.41         1.12  \n",
              "f_17        65.95      6058.23  \n",
              "f_18        24.75      4061.15  \n",
              "f_19         1.06         2.60  \n",
              "f_20         0.27         0.65  \n",
              "f_21         0.32         0.77  \n",
              "f_22        85.22       126.08  \n",
              "f_23         0.00         0.00  \n",
              "f_24         0.96         1.33  \n",
              "f_25       422.12      2036.80  \n",
              "f_26         1.01         1.83  \n",
              "f_27        12.06        14.78  \n",
              "f_28         0.98         5.72  \n",
              "f_29         4.50        39.42  \n",
              "f_30        -1.62         1.28  \n",
              "f_31        -0.28         0.00  \n",
              "f_32         2.17         2.98  \n",
              "f_33         0.00         0.87  \n",
              "f_34         2.17         2.98  \n",
              "f_35        39.00      1695.00  \n",
              "f_36      2160.00     95310.00  \n",
              "f_37         0.01         0.02  \n",
              "f_38        37.76       441.23  \n",
              "f_39        99.00       143.00  \n",
              "f_40        67.00        86.00  \n",
              "f_41      1053.42     11949.33  \n",
              "f_42       460.98     11500.00  \n",
              "f_43       265.51      9593.48  \n",
              "f_44       125.81      1748.13  \n",
              "f_45         6.32        76.63  \n",
              "f_46         0.00         1.00  \n",
              "f_47      9521.93     55128.46  \n",
              "f_48        66.13        66.45  \n",
              "f_49         7.84        15.44  \n",
              "target       0.00         1.00  "
            ],
            "text/html": [
              "\n",
              "  <div id=\"df-e3eba1e4-6388-42db-a563-542c5554dd1c\">\n",
              "    <div class=\"colab-df-container\">\n",
              "      <div>\n",
              "<style scoped>\n",
              "    .dataframe tbody tr th:only-of-type {\n",
              "        vertical-align: middle;\n",
              "    }\n",
              "\n",
              "    .dataframe tbody tr th {\n",
              "        vertical-align: top;\n",
              "    }\n",
              "\n",
              "    .dataframe thead th {\n",
              "        text-align: right;\n",
              "    }\n",
              "</style>\n",
              "<table border=\"1\" class=\"dataframe\">\n",
              "  <thead>\n",
              "    <tr style=\"text-align: right;\">\n",
              "      <th></th>\n",
              "      <th>count</th>\n",
              "      <th>mean</th>\n",
              "      <th>std</th>\n",
              "      <th>min</th>\n",
              "      <th>25%</th>\n",
              "      <th>50%</th>\n",
              "      <th>75%</th>\n",
              "      <th>max</th>\n",
              "    </tr>\n",
              "  </thead>\n",
              "  <tbody>\n",
              "    <tr>\n",
              "      <th>f_1</th>\n",
              "      <td>937.0</td>\n",
              "      <td>81.588047</td>\n",
              "      <td>6.497673e+01</td>\n",
              "      <td>1.00</td>\n",
              "      <td>31.00</td>\n",
              "      <td>64.00</td>\n",
              "      <td>124.00</td>\n",
              "      <td>352.00</td>\n",
              "    </tr>\n",
              "    <tr>\n",
              "      <th>f_2</th>\n",
              "      <td>937.0</td>\n",
              "      <td>332.842049</td>\n",
              "      <td>1.931939e+03</td>\n",
              "      <td>10.00</td>\n",
              "      <td>20.00</td>\n",
              "      <td>65.00</td>\n",
              "      <td>132.00</td>\n",
              "      <td>32389.00</td>\n",
              "    </tr>\n",
              "    <tr>\n",
              "      <th>f_3</th>\n",
              "      <td>937.0</td>\n",
              "      <td>698.707086</td>\n",
              "      <td>5.999656e+02</td>\n",
              "      <td>1.92</td>\n",
              "      <td>85.27</td>\n",
              "      <td>704.37</td>\n",
              "      <td>1223.48</td>\n",
              "      <td>1893.08</td>\n",
              "    </tr>\n",
              "    <tr>\n",
              "      <th>f_4</th>\n",
              "      <td>937.0</td>\n",
              "      <td>870.992209</td>\n",
              "      <td>5.227993e+02</td>\n",
              "      <td>1.00</td>\n",
              "      <td>444.20</td>\n",
              "      <td>761.28</td>\n",
              "      <td>1260.37</td>\n",
              "      <td>2724.57</td>\n",
              "    </tr>\n",
              "    <tr>\n",
              "      <th>f_5</th>\n",
              "      <td>937.0</td>\n",
              "      <td>84.121665</td>\n",
              "      <td>4.536177e+01</td>\n",
              "      <td>0.00</td>\n",
              "      <td>54.00</td>\n",
              "      <td>73.00</td>\n",
              "      <td>117.00</td>\n",
              "      <td>180.00</td>\n",
              "    </tr>\n",
              "    <tr>\n",
              "      <th>f_6</th>\n",
              "      <td>937.0</td>\n",
              "      <td>769696.378869</td>\n",
              "      <td>3.831151e+06</td>\n",
              "      <td>70312.00</td>\n",
              "      <td>125000.00</td>\n",
              "      <td>186300.00</td>\n",
              "      <td>330468.00</td>\n",
              "      <td>71315000.00</td>\n",
              "    </tr>\n",
              "    <tr>\n",
              "      <th>f_7</th>\n",
              "      <td>937.0</td>\n",
              "      <td>43.242721</td>\n",
              "      <td>1.271840e+01</td>\n",
              "      <td>21.24</td>\n",
              "      <td>33.65</td>\n",
              "      <td>39.97</td>\n",
              "      <td>52.42</td>\n",
              "      <td>82.64</td>\n",
              "    </tr>\n",
              "    <tr>\n",
              "      <th>f_8</th>\n",
              "      <td>937.0</td>\n",
              "      <td>9.127887</td>\n",
              "      <td>3.588878e+00</td>\n",
              "      <td>0.83</td>\n",
              "      <td>6.75</td>\n",
              "      <td>8.20</td>\n",
              "      <td>10.76</td>\n",
              "      <td>24.69</td>\n",
              "    </tr>\n",
              "    <tr>\n",
              "      <th>f_9</th>\n",
              "      <td>937.0</td>\n",
              "      <td>3940.712914</td>\n",
              "      <td>8.167428e+03</td>\n",
              "      <td>667.00</td>\n",
              "      <td>1371.00</td>\n",
              "      <td>2090.00</td>\n",
              "      <td>3435.00</td>\n",
              "      <td>160740.00</td>\n",
              "    </tr>\n",
              "    <tr>\n",
              "      <th>f_10</th>\n",
              "      <td>937.0</td>\n",
              "      <td>0.221003</td>\n",
              "      <td>9.031555e-02</td>\n",
              "      <td>0.02</td>\n",
              "      <td>0.16</td>\n",
              "      <td>0.20</td>\n",
              "      <td>0.26</td>\n",
              "      <td>0.74</td>\n",
              "    </tr>\n",
              "    <tr>\n",
              "      <th>f_11</th>\n",
              "      <td>937.0</td>\n",
              "      <td>109.892743</td>\n",
              "      <td>6.146085e+01</td>\n",
              "      <td>41.00</td>\n",
              "      <td>83.50</td>\n",
              "      <td>99.80</td>\n",
              "      <td>115.40</td>\n",
              "      <td>901.70</td>\n",
              "    </tr>\n",
              "    <tr>\n",
              "      <th>f_12</th>\n",
              "      <td>937.0</td>\n",
              "      <td>0.251441</td>\n",
              "      <td>8.813206e-02</td>\n",
              "      <td>0.02</td>\n",
              "      <td>0.20</td>\n",
              "      <td>0.24</td>\n",
              "      <td>0.29</td>\n",
              "      <td>0.66</td>\n",
              "    </tr>\n",
              "    <tr>\n",
              "      <th>f_13</th>\n",
              "      <td>937.0</td>\n",
              "      <td>0.311217</td>\n",
              "      <td>1.213863e-01</td>\n",
              "      <td>0.03</td>\n",
              "      <td>0.24</td>\n",
              "      <td>0.29</td>\n",
              "      <td>0.35</td>\n",
              "      <td>0.83</td>\n",
              "    </tr>\n",
              "    <tr>\n",
              "      <th>f_14</th>\n",
              "      <td>937.0</td>\n",
              "      <td>0.484664</td>\n",
              "      <td>2.168587e-01</td>\n",
              "      <td>0.05</td>\n",
              "      <td>0.33</td>\n",
              "      <td>0.43</td>\n",
              "      <td>0.61</td>\n",
              "      <td>1.23</td>\n",
              "    </tr>\n",
              "    <tr>\n",
              "      <th>f_15</th>\n",
              "      <td>937.0</td>\n",
              "      <td>0.182892</td>\n",
              "      <td>8.294307e-02</td>\n",
              "      <td>0.01</td>\n",
              "      <td>0.13</td>\n",
              "      <td>0.17</td>\n",
              "      <td>0.22</td>\n",
              "      <td>0.65</td>\n",
              "    </tr>\n",
              "    <tr>\n",
              "      <th>f_16</th>\n",
              "      <td>937.0</td>\n",
              "      <td>0.301932</td>\n",
              "      <td>2.046949e-01</td>\n",
              "      <td>0.01</td>\n",
              "      <td>0.13</td>\n",
              "      <td>0.27</td>\n",
              "      <td>0.41</td>\n",
              "      <td>1.12</td>\n",
              "    </tr>\n",
              "    <tr>\n",
              "      <th>f_17</th>\n",
              "      <td>937.0</td>\n",
              "      <td>77.412561</td>\n",
              "      <td>3.043298e+02</td>\n",
              "      <td>4.82</td>\n",
              "      <td>21.09</td>\n",
              "      <td>34.72</td>\n",
              "      <td>65.95</td>\n",
              "      <td>6058.23</td>\n",
              "    </tr>\n",
              "    <tr>\n",
              "      <th>f_18</th>\n",
              "      <td>937.0</td>\n",
              "      <td>31.151921</td>\n",
              "      <td>1.526933e+02</td>\n",
              "      <td>1.96</td>\n",
              "      <td>11.68</td>\n",
              "      <td>16.49</td>\n",
              "      <td>24.75</td>\n",
              "      <td>4061.15</td>\n",
              "    </tr>\n",
              "    <tr>\n",
              "      <th>f_19</th>\n",
              "      <td>937.0</td>\n",
              "      <td>0.909039</td>\n",
              "      <td>6.754919e-01</td>\n",
              "      <td>0.13</td>\n",
              "      <td>0.37</td>\n",
              "      <td>0.70</td>\n",
              "      <td>1.06</td>\n",
              "      <td>2.60</td>\n",
              "    </tr>\n",
              "    <tr>\n",
              "      <th>f_20</th>\n",
              "      <td>937.0</td>\n",
              "      <td>0.228815</td>\n",
              "      <td>7.541045e-02</td>\n",
              "      <td>0.02</td>\n",
              "      <td>0.18</td>\n",
              "      <td>0.22</td>\n",
              "      <td>0.27</td>\n",
              "      <td>0.65</td>\n",
              "    </tr>\n",
              "    <tr>\n",
              "      <th>f_21</th>\n",
              "      <td>937.0</td>\n",
              "      <td>0.289317</td>\n",
              "      <td>1.053665e-01</td>\n",
              "      <td>0.02</td>\n",
              "      <td>0.23</td>\n",
              "      <td>0.27</td>\n",
              "      <td>0.32</td>\n",
              "      <td>0.77</td>\n",
              "    </tr>\n",
              "    <tr>\n",
              "      <th>f_22</th>\n",
              "      <td>937.0</td>\n",
              "      <td>76.085624</td>\n",
              "      <td>2.293747e+01</td>\n",
              "      <td>47.66</td>\n",
              "      <td>55.85</td>\n",
              "      <td>69.09</td>\n",
              "      <td>85.22</td>\n",
              "      <td>126.08</td>\n",
              "    </tr>\n",
              "    <tr>\n",
              "      <th>f_23</th>\n",
              "      <td>937.0</td>\n",
              "      <td>0.000000</td>\n",
              "      <td>0.000000e+00</td>\n",
              "      <td>0.00</td>\n",
              "      <td>0.00</td>\n",
              "      <td>0.00</td>\n",
              "      <td>0.00</td>\n",
              "      <td>0.00</td>\n",
              "    </tr>\n",
              "    <tr>\n",
              "      <th>f_24</th>\n",
              "      <td>937.0</td>\n",
              "      <td>0.642177</td>\n",
              "      <td>2.999451e-01</td>\n",
              "      <td>0.17</td>\n",
              "      <td>0.45</td>\n",
              "      <td>0.50</td>\n",
              "      <td>0.96</td>\n",
              "      <td>1.33</td>\n",
              "    </tr>\n",
              "    <tr>\n",
              "      <th>f_25</th>\n",
              "      <td>937.0</td>\n",
              "      <td>559.910694</td>\n",
              "      <td>6.124593e+02</td>\n",
              "      <td>132.78</td>\n",
              "      <td>221.97</td>\n",
              "      <td>351.67</td>\n",
              "      <td>422.12</td>\n",
              "      <td>2036.80</td>\n",
              "    </tr>\n",
              "    <tr>\n",
              "      <th>f_26</th>\n",
              "      <td>937.0</td>\n",
              "      <td>0.578292</td>\n",
              "      <td>7.021573e-01</td>\n",
              "      <td>-0.71</td>\n",
              "      <td>0.18</td>\n",
              "      <td>0.87</td>\n",
              "      <td>1.01</td>\n",
              "      <td>1.83</td>\n",
              "    </tr>\n",
              "    <tr>\n",
              "      <th>f_27</th>\n",
              "      <td>937.0</td>\n",
              "      <td>7.498196</td>\n",
              "      <td>3.967966e+00</td>\n",
              "      <td>2.96</td>\n",
              "      <td>4.66</td>\n",
              "      <td>5.07</td>\n",
              "      <td>12.06</td>\n",
              "      <td>14.78</td>\n",
              "    </tr>\n",
              "    <tr>\n",
              "      <th>f_28</th>\n",
              "      <td>937.0</td>\n",
              "      <td>0.608399</td>\n",
              "      <td>8.452216e-01</td>\n",
              "      <td>-1.79</td>\n",
              "      <td>0.09</td>\n",
              "      <td>0.48</td>\n",
              "      <td>0.98</td>\n",
              "      <td>5.72</td>\n",
              "    </tr>\n",
              "    <tr>\n",
              "      <th>f_29</th>\n",
              "      <td>937.0</td>\n",
              "      <td>4.271110</td>\n",
              "      <td>3.619406e+00</td>\n",
              "      <td>1.44</td>\n",
              "      <td>2.64</td>\n",
              "      <td>3.33</td>\n",
              "      <td>4.50</td>\n",
              "      <td>39.42</td>\n",
              "    </tr>\n",
              "    <tr>\n",
              "      <th>f_30</th>\n",
              "      <td>937.0</td>\n",
              "      <td>-2.828420</td>\n",
              "      <td>1.621832e+00</td>\n",
              "      <td>-7.81</td>\n",
              "      <td>-3.25</td>\n",
              "      <td>-2.78</td>\n",
              "      <td>-1.62</td>\n",
              "      <td>1.28</td>\n",
              "    </tr>\n",
              "    <tr>\n",
              "      <th>f_31</th>\n",
              "      <td>937.0</td>\n",
              "      <td>-0.428869</td>\n",
              "      <td>2.156168e-01</td>\n",
              "      <td>-1.37</td>\n",
              "      <td>-0.53</td>\n",
              "      <td>-0.38</td>\n",
              "      <td>-0.28</td>\n",
              "      <td>0.00</td>\n",
              "    </tr>\n",
              "    <tr>\n",
              "      <th>f_32</th>\n",
              "      <td>937.0</td>\n",
              "      <td>1.824589</td>\n",
              "      <td>6.387222e-01</td>\n",
              "      <td>0.00</td>\n",
              "      <td>1.22</td>\n",
              "      <td>1.95</td>\n",
              "      <td>2.17</td>\n",
              "      <td>2.98</td>\n",
              "    </tr>\n",
              "    <tr>\n",
              "      <th>f_33</th>\n",
              "      <td>937.0</td>\n",
              "      <td>0.002785</td>\n",
              "      <td>4.898794e-02</td>\n",
              "      <td>0.00</td>\n",
              "      <td>0.00</td>\n",
              "      <td>0.00</td>\n",
              "      <td>0.00</td>\n",
              "      <td>0.87</td>\n",
              "    </tr>\n",
              "    <tr>\n",
              "      <th>f_34</th>\n",
              "      <td>937.0</td>\n",
              "      <td>1.821793</td>\n",
              "      <td>6.433976e-01</td>\n",
              "      <td>0.00</td>\n",
              "      <td>1.21</td>\n",
              "      <td>1.95</td>\n",
              "      <td>2.17</td>\n",
              "      <td>2.98</td>\n",
              "    </tr>\n",
              "    <tr>\n",
              "      <th>f_35</th>\n",
              "      <td>937.0</td>\n",
              "      <td>43.086446</td>\n",
              "      <td>9.516733e+01</td>\n",
              "      <td>3.00</td>\n",
              "      <td>12.00</td>\n",
              "      <td>23.00</td>\n",
              "      <td>39.00</td>\n",
              "      <td>1695.00</td>\n",
              "    </tr>\n",
              "    <tr>\n",
              "      <th>f_36</th>\n",
              "      <td>937.0</td>\n",
              "      <td>2432.689434</td>\n",
              "      <td>5.219378e+03</td>\n",
              "      <td>360.00</td>\n",
              "      <td>720.00</td>\n",
              "      <td>1350.00</td>\n",
              "      <td>2160.00</td>\n",
              "      <td>95310.00</td>\n",
              "    </tr>\n",
              "    <tr>\n",
              "      <th>f_37</th>\n",
              "      <td>937.0</td>\n",
              "      <td>0.006894</td>\n",
              "      <td>5.337192e-03</td>\n",
              "      <td>0.00</td>\n",
              "      <td>0.00</td>\n",
              "      <td>0.01</td>\n",
              "      <td>0.01</td>\n",
              "      <td>0.02</td>\n",
              "    </tr>\n",
              "    <tr>\n",
              "      <th>f_38</th>\n",
              "      <td>937.0</td>\n",
              "      <td>31.241857</td>\n",
              "      <td>3.158484e+01</td>\n",
              "      <td>5.05</td>\n",
              "      <td>13.45</td>\n",
              "      <td>23.63</td>\n",
              "      <td>37.76</td>\n",
              "      <td>441.23</td>\n",
              "    </tr>\n",
              "    <tr>\n",
              "      <th>f_39</th>\n",
              "      <td>937.0</td>\n",
              "      <td>91.189968</td>\n",
              "      <td>2.198441e+01</td>\n",
              "      <td>64.00</td>\n",
              "      <td>78.00</td>\n",
              "      <td>82.00</td>\n",
              "      <td>99.00</td>\n",
              "      <td>143.00</td>\n",
              "    </tr>\n",
              "    <tr>\n",
              "      <th>f_40</th>\n",
              "      <td>937.0</td>\n",
              "      <td>60.547492</td>\n",
              "      <td>1.383890e+01</td>\n",
              "      <td>39.00</td>\n",
              "      <td>50.00</td>\n",
              "      <td>55.00</td>\n",
              "      <td>67.00</td>\n",
              "      <td>86.00</td>\n",
              "    </tr>\n",
              "    <tr>\n",
              "      <th>f_41</th>\n",
              "      <td>937.0</td>\n",
              "      <td>933.928677</td>\n",
              "      <td>1.001681e+03</td>\n",
              "      <td>0.00</td>\n",
              "      <td>450.00</td>\n",
              "      <td>685.42</td>\n",
              "      <td>1053.42</td>\n",
              "      <td>11949.33</td>\n",
              "    </tr>\n",
              "    <tr>\n",
              "      <th>f_42</th>\n",
              "      <td>937.0</td>\n",
              "      <td>427.565582</td>\n",
              "      <td>7.153916e+02</td>\n",
              "      <td>0.00</td>\n",
              "      <td>180.00</td>\n",
              "      <td>270.00</td>\n",
              "      <td>460.98</td>\n",
              "      <td>11500.00</td>\n",
              "    </tr>\n",
              "    <tr>\n",
              "      <th>f_43</th>\n",
              "      <td>937.0</td>\n",
              "      <td>255.435902</td>\n",
              "      <td>5.343062e+02</td>\n",
              "      <td>0.00</td>\n",
              "      <td>90.80</td>\n",
              "      <td>161.65</td>\n",
              "      <td>265.51</td>\n",
              "      <td>9593.48</td>\n",
              "    </tr>\n",
              "    <tr>\n",
              "      <th>f_44</th>\n",
              "      <td>937.0</td>\n",
              "      <td>106.112519</td>\n",
              "      <td>1.356177e+02</td>\n",
              "      <td>0.00</td>\n",
              "      <td>50.12</td>\n",
              "      <td>73.85</td>\n",
              "      <td>125.81</td>\n",
              "      <td>1748.13</td>\n",
              "    </tr>\n",
              "    <tr>\n",
              "      <th>f_45</th>\n",
              "      <td>937.0</td>\n",
              "      <td>5.014002</td>\n",
              "      <td>5.029151e+00</td>\n",
              "      <td>0.00</td>\n",
              "      <td>2.37</td>\n",
              "      <td>3.85</td>\n",
              "      <td>6.32</td>\n",
              "      <td>76.63</td>\n",
              "    </tr>\n",
              "    <tr>\n",
              "      <th>f_46</th>\n",
              "      <td>937.0</td>\n",
              "      <td>0.128068</td>\n",
              "      <td>3.343443e-01</td>\n",
              "      <td>0.00</td>\n",
              "      <td>0.00</td>\n",
              "      <td>0.00</td>\n",
              "      <td>0.00</td>\n",
              "      <td>1.00</td>\n",
              "    </tr>\n",
              "    <tr>\n",
              "      <th>f_47</th>\n",
              "      <td>937.0</td>\n",
              "      <td>7985.718004</td>\n",
              "      <td>6.854505e+03</td>\n",
              "      <td>2051.50</td>\n",
              "      <td>3760.57</td>\n",
              "      <td>5509.43</td>\n",
              "      <td>9521.93</td>\n",
              "      <td>55128.46</td>\n",
              "    </tr>\n",
              "    <tr>\n",
              "      <th>f_48</th>\n",
              "      <td>937.0</td>\n",
              "      <td>61.694386</td>\n",
              "      <td>1.041281e+01</td>\n",
              "      <td>35.95</td>\n",
              "      <td>65.72</td>\n",
              "      <td>65.93</td>\n",
              "      <td>66.13</td>\n",
              "      <td>66.45</td>\n",
              "    </tr>\n",
              "    <tr>\n",
              "      <th>f_49</th>\n",
              "      <td>937.0</td>\n",
              "      <td>8.119723</td>\n",
              "      <td>2.908895e+00</td>\n",
              "      <td>5.81</td>\n",
              "      <td>6.34</td>\n",
              "      <td>7.22</td>\n",
              "      <td>7.84</td>\n",
              "      <td>15.44</td>\n",
              "    </tr>\n",
              "    <tr>\n",
              "      <th>target</th>\n",
              "      <td>937.0</td>\n",
              "      <td>0.043757</td>\n",
              "      <td>2.046625e-01</td>\n",
              "      <td>0.00</td>\n",
              "      <td>0.00</td>\n",
              "      <td>0.00</td>\n",
              "      <td>0.00</td>\n",
              "      <td>1.00</td>\n",
              "    </tr>\n",
              "  </tbody>\n",
              "</table>\n",
              "</div>\n",
              "      <button class=\"colab-df-convert\" onclick=\"convertToInteractive('df-e3eba1e4-6388-42db-a563-542c5554dd1c')\"\n",
              "              title=\"Convert this dataframe to an interactive table.\"\n",
              "              style=\"display:none;\">\n",
              "        \n",
              "  <svg xmlns=\"http://www.w3.org/2000/svg\" height=\"24px\"viewBox=\"0 0 24 24\"\n",
              "       width=\"24px\">\n",
              "    <path d=\"M0 0h24v24H0V0z\" fill=\"none\"/>\n",
              "    <path d=\"M18.56 5.44l.94 2.06.94-2.06 2.06-.94-2.06-.94-.94-2.06-.94 2.06-2.06.94zm-11 1L8.5 8.5l.94-2.06 2.06-.94-2.06-.94L8.5 2.5l-.94 2.06-2.06.94zm10 10l.94 2.06.94-2.06 2.06-.94-2.06-.94-.94-2.06-.94 2.06-2.06.94z\"/><path d=\"M17.41 7.96l-1.37-1.37c-.4-.4-.92-.59-1.43-.59-.52 0-1.04.2-1.43.59L10.3 9.45l-7.72 7.72c-.78.78-.78 2.05 0 2.83L4 21.41c.39.39.9.59 1.41.59.51 0 1.02-.2 1.41-.59l7.78-7.78 2.81-2.81c.8-.78.8-2.07 0-2.86zM5.41 20L4 18.59l7.72-7.72 1.47 1.35L5.41 20z\"/>\n",
              "  </svg>\n",
              "      </button>\n",
              "      \n",
              "  <style>\n",
              "    .colab-df-container {\n",
              "      display:flex;\n",
              "      flex-wrap:wrap;\n",
              "      gap: 12px;\n",
              "    }\n",
              "\n",
              "    .colab-df-convert {\n",
              "      background-color: #E8F0FE;\n",
              "      border: none;\n",
              "      border-radius: 50%;\n",
              "      cursor: pointer;\n",
              "      display: none;\n",
              "      fill: #1967D2;\n",
              "      height: 32px;\n",
              "      padding: 0 0 0 0;\n",
              "      width: 32px;\n",
              "    }\n",
              "\n",
              "    .colab-df-convert:hover {\n",
              "      background-color: #E2EBFA;\n",
              "      box-shadow: 0px 1px 2px rgba(60, 64, 67, 0.3), 0px 1px 3px 1px rgba(60, 64, 67, 0.15);\n",
              "      fill: #174EA6;\n",
              "    }\n",
              "\n",
              "    [theme=dark] .colab-df-convert {\n",
              "      background-color: #3B4455;\n",
              "      fill: #D2E3FC;\n",
              "    }\n",
              "\n",
              "    [theme=dark] .colab-df-convert:hover {\n",
              "      background-color: #434B5C;\n",
              "      box-shadow: 0px 1px 3px 1px rgba(0, 0, 0, 0.15);\n",
              "      filter: drop-shadow(0px 1px 2px rgba(0, 0, 0, 0.3));\n",
              "      fill: #FFFFFF;\n",
              "    }\n",
              "  </style>\n",
              "\n",
              "      <script>\n",
              "        const buttonEl =\n",
              "          document.querySelector('#df-e3eba1e4-6388-42db-a563-542c5554dd1c button.colab-df-convert');\n",
              "        buttonEl.style.display =\n",
              "          google.colab.kernel.accessAllowed ? 'block' : 'none';\n",
              "\n",
              "        async function convertToInteractive(key) {\n",
              "          const element = document.querySelector('#df-e3eba1e4-6388-42db-a563-542c5554dd1c');\n",
              "          const dataTable =\n",
              "            await google.colab.kernel.invokeFunction('convertToInteractive',\n",
              "                                                     [key], {});\n",
              "          if (!dataTable) return;\n",
              "\n",
              "          const docLinkHtml = 'Like what you see? Visit the ' +\n",
              "            '<a target=\"_blank\" href=https://colab.research.google.com/notebooks/data_table.ipynb>data table notebook</a>'\n",
              "            + ' to learn more about interactive tables.';\n",
              "          element.innerHTML = '';\n",
              "          dataTable['output_type'] = 'display_data';\n",
              "          await google.colab.output.renderOutput(dataTable, element);\n",
              "          const docLink = document.createElement('div');\n",
              "          docLink.innerHTML = docLinkHtml;\n",
              "          element.appendChild(docLink);\n",
              "        }\n",
              "      </script>\n",
              "    </div>\n",
              "  </div>\n",
              "  "
            ]
          },
          "metadata": {},
          "execution_count": 74
        }
      ]
    },
    {
      "cell_type": "markdown",
      "source": [
        "Base on the descriptive statistics above, recheck the following features:\n",
        "Feature f_23, f_46, f_37, f_33. \n",
        "\n",
        "Note: f_33, f_37, f_46 are categorical variables"
      ],
      "metadata": {
        "id": "UPEEs9d5OuMG"
      }
    },
    {
      "cell_type": "code",
      "source": [
        "df.groupby('target')['f_23'].value_counts()"
      ],
      "metadata": {
        "execution": {
          "iopub.status.busy": "2022-12-01T15:58:41.347684Z",
          "iopub.execute_input": "2022-12-01T15:58:41.348540Z",
          "iopub.status.idle": "2022-12-01T15:58:41.359720Z",
          "shell.execute_reply.started": "2022-12-01T15:58:41.348502Z",
          "shell.execute_reply": "2022-12-01T15:58:41.358155Z"
        },
        "trusted": true,
        "colab": {
          "base_uri": "https://localhost:8080/"
        },
        "id": "wop7EJQiOuMG",
        "outputId": "6e80e226-6cba-4985-c516-4faa3dc4914c"
      },
      "execution_count": null,
      "outputs": [
        {
          "output_type": "execute_result",
          "data": {
            "text/plain": [
              "target  f_23\n",
              "0       0       896\n",
              "1       0        41\n",
              "Name: f_23, dtype: int64"
            ]
          },
          "metadata": {},
          "execution_count": 75
        }
      ]
    },
    {
      "cell_type": "code",
      "source": [
        "df.groupby('target')['f_37'].value_counts()"
      ],
      "metadata": {
        "execution": {
          "iopub.status.busy": "2022-12-01T15:58:41.361759Z",
          "iopub.execute_input": "2022-12-01T15:58:41.362283Z",
          "iopub.status.idle": "2022-12-01T15:58:41.376218Z",
          "shell.execute_reply.started": "2022-12-01T15:58:41.362152Z",
          "shell.execute_reply": "2022-12-01T15:58:41.374912Z"
        },
        "trusted": true,
        "colab": {
          "base_uri": "https://localhost:8080/"
        },
        "id": "5OumSBLeOuMG",
        "outputId": "e8a45129-b5bd-4ad2-bad5-94bb25d5216d"
      },
      "execution_count": null,
      "outputs": [
        {
          "output_type": "execute_result",
          "data": {
            "text/plain": [
              "target  f_37\n",
              "0       0.01    562\n",
              "        0.00    301\n",
              "        0.02     33\n",
              "1       0.00     23\n",
              "        0.01     18\n",
              "Name: f_37, dtype: int64"
            ]
          },
          "metadata": {},
          "execution_count": 76
        }
      ]
    },
    {
      "cell_type": "code",
      "source": [
        "df.groupby('target')['f_46'].value_counts()"
      ],
      "metadata": {
        "execution": {
          "iopub.status.busy": "2022-12-01T15:58:41.377617Z",
          "iopub.execute_input": "2022-12-01T15:58:41.377994Z",
          "iopub.status.idle": "2022-12-01T15:58:41.390085Z",
          "shell.execute_reply.started": "2022-12-01T15:58:41.377965Z",
          "shell.execute_reply": "2022-12-01T15:58:41.388913Z"
        },
        "trusted": true,
        "colab": {
          "base_uri": "https://localhost:8080/"
        },
        "id": "Ix8DC6v-OuMG",
        "outputId": "c943943a-9fdd-496a-bf76-17929e6f4b8c"
      },
      "execution_count": null,
      "outputs": [
        {
          "output_type": "execute_result",
          "data": {
            "text/plain": [
              "target  f_46\n",
              "0       0       785\n",
              "        1       111\n",
              "1       0        32\n",
              "        1         9\n",
              "Name: f_46, dtype: int64"
            ]
          },
          "metadata": {},
          "execution_count": 77
        }
      ]
    },
    {
      "cell_type": "markdown",
      "source": [
        "Feature f_23, f_33, f_37 contain mostly zero and thus are removed from the dataset."
      ],
      "metadata": {
        "id": "dMAMNug_OuMH"
      }
    },
    {
      "cell_type": "code",
      "source": [
        "df.drop(['f_23','f_33','f_37'], axis = 1, inplace = True)"
      ],
      "metadata": {
        "execution": {
          "iopub.status.busy": "2022-12-01T15:58:41.391729Z",
          "iopub.execute_input": "2022-12-01T15:58:41.392302Z",
          "iopub.status.idle": "2022-12-01T15:58:41.399374Z",
          "shell.execute_reply.started": "2022-12-01T15:58:41.392265Z",
          "shell.execute_reply": "2022-12-01T15:58:41.398288Z"
        },
        "trusted": true,
        "id": "duKcF_pWOuMH"
      },
      "execution_count": null,
      "outputs": []
    },
    {
      "cell_type": "code",
      "source": [
        "#Check number of features:\n",
        "print('Number of records:', df.shape[0])\n",
        "print('\\n Number of features:', df.shape[1]-1)\n",
        "print('\\n List of features:', list(df.columns[:-1]))\n",
        "print('\\n Target variable:',df.columns[-1])"
      ],
      "metadata": {
        "execution": {
          "iopub.status.busy": "2022-12-01T15:58:41.400890Z",
          "iopub.execute_input": "2022-12-01T15:58:41.401144Z",
          "iopub.status.idle": "2022-12-01T15:58:41.412161Z",
          "shell.execute_reply.started": "2022-12-01T15:58:41.401117Z",
          "shell.execute_reply": "2022-12-01T15:58:41.410984Z"
        },
        "trusted": true,
        "colab": {
          "base_uri": "https://localhost:8080/"
        },
        "id": "53EaZXpMOuMH",
        "outputId": "fca6f0a7-9dfa-43e1-c0f9-fa3beba3b27e"
      },
      "execution_count": null,
      "outputs": [
        {
          "output_type": "stream",
          "name": "stdout",
          "text": [
            "Number of records: 937\n",
            "\n",
            " Number of features: 46\n",
            "\n",
            " List of features: ['f_1', 'f_2', 'f_3', 'f_4', 'f_5', 'f_6', 'f_7', 'f_8', 'f_9', 'f_10', 'f_11', 'f_12', 'f_13', 'f_14', 'f_15', 'f_16', 'f_17', 'f_18', 'f_19', 'f_20', 'f_21', 'f_22', 'f_24', 'f_25', 'f_26', 'f_27', 'f_28', 'f_29', 'f_30', 'f_31', 'f_32', 'f_34', 'f_35', 'f_36', 'f_38', 'f_39', 'f_40', 'f_41', 'f_42', 'f_43', 'f_44', 'f_45', 'f_46', 'f_47', 'f_48', 'f_49']\n",
            "\n",
            " Target variable: target\n"
          ]
        }
      ]
    },
    {
      "cell_type": "code",
      "source": [
        "#Check for na values in dataset\n",
        "df.isna().sum().max()"
      ],
      "metadata": {
        "execution": {
          "iopub.status.busy": "2022-12-01T15:58:41.414037Z",
          "iopub.execute_input": "2022-12-01T15:58:41.414803Z",
          "iopub.status.idle": "2022-12-01T15:58:41.427584Z",
          "shell.execute_reply.started": "2022-12-01T15:58:41.414760Z",
          "shell.execute_reply": "2022-12-01T15:58:41.426149Z"
        },
        "trusted": true,
        "colab": {
          "base_uri": "https://localhost:8080/"
        },
        "id": "-W2FNjPQOuMH",
        "outputId": "12e3e6ab-3599-41ca-badd-1a3f2a471646"
      },
      "execution_count": null,
      "outputs": [
        {
          "output_type": "execute_result",
          "data": {
            "text/plain": [
              "0"
            ]
          },
          "metadata": {},
          "execution_count": 80
        }
      ]
    },
    {
      "cell_type": "code",
      "source": [
        "def get_class_data(var):\n",
        "    neg, pos = np.bincount(var)\n",
        "    total = neg + pos\n",
        "    print('Total: {}\\n   Record of oil spill: {} ({:.2f}% of total)\\n   Record of no oil spill: {} ({:.2f}% of total)'.format(total, pos, 100 * pos / total,neg, 100*neg/total))\n",
        "    return neg,pos"
      ],
      "metadata": {
        "execution": {
          "iopub.status.busy": "2022-12-01T15:58:41.428818Z",
          "iopub.execute_input": "2022-12-01T15:58:41.429749Z",
          "iopub.status.idle": "2022-12-01T15:58:41.437149Z",
          "shell.execute_reply.started": "2022-12-01T15:58:41.429717Z",
          "shell.execute_reply": "2022-12-01T15:58:41.435842Z"
        },
        "trusted": true,
        "id": "3SVTo1L9OuMI"
      },
      "execution_count": null,
      "outputs": []
    },
    {
      "cell_type": "code",
      "source": [
        "neg,pos = get_class_data(df['target'])"
      ],
      "metadata": {
        "execution": {
          "iopub.status.busy": "2022-12-01T15:58:41.438248Z",
          "iopub.execute_input": "2022-12-01T15:58:41.439183Z",
          "iopub.status.idle": "2022-12-01T15:58:41.450119Z",
          "shell.execute_reply.started": "2022-12-01T15:58:41.439140Z",
          "shell.execute_reply": "2022-12-01T15:58:41.449245Z"
        },
        "trusted": true,
        "colab": {
          "base_uri": "https://localhost:8080/"
        },
        "id": "Y-5wbFM3OuMI",
        "outputId": "fba695da-4c36-4e96-ecaf-acea8fc18686"
      },
      "execution_count": null,
      "outputs": [
        {
          "output_type": "stream",
          "name": "stdout",
          "text": [
            "Total: 937\n",
            "   Record of oil spill: 41 (4.38% of total)\n",
            "   Record of no oil spill: 896 (95.62% of total)\n"
          ]
        }
      ]
    },
    {
      "cell_type": "code",
      "source": [
        "sns.countplot(x='target',data = df)\n",
        "plt.title('Class Distributions \\n (0: No Oil Spill || 1: Oil Spill)', fontsize=12)"
      ],
      "metadata": {
        "execution": {
          "iopub.status.busy": "2022-12-01T15:58:41.453268Z",
          "iopub.execute_input": "2022-12-01T15:58:41.454517Z",
          "iopub.status.idle": "2022-12-01T15:58:41.616221Z",
          "shell.execute_reply.started": "2022-12-01T15:58:41.454466Z",
          "shell.execute_reply": "2022-12-01T15:58:41.615459Z"
        },
        "trusted": true,
        "colab": {
          "base_uri": "https://localhost:8080/",
          "height": 327
        },
        "id": "nVM0D2IjOuMI",
        "outputId": "136bf6c7-62b2-4940-d3ab-6d4dda2b5fb4"
      },
      "execution_count": null,
      "outputs": [
        {
          "output_type": "execute_result",
          "data": {
            "text/plain": [
              "Text(0.5, 1.0, 'Class Distributions \\n (0: No Oil Spill || 1: Oil Spill)')"
            ]
          },
          "metadata": {},
          "execution_count": 83
        },
        {
          "output_type": "display_data",
          "data": {
            "text/plain": [
              "<Figure size 432x288 with 1 Axes>"
            ],
            "image/png": "[encoded data removed]"
          },
          "metadata": {}
        }
      ]
    },
    {
      "cell_type": "markdown",
      "source": [
        "This is an imblanced dataset with 95.6% of the total records is without oil spill and 4.4% of the total records is with oil spill"
      ],
      "metadata": {
        "id": "YBEH2Ua5OuMI"
      }
    },
    {
      "cell_type": "code",
      "source": [
        "def group_kdePlot(df,nr_plot=7,nc_plot=7):\n",
        "    feature_list = df.columns.values[0:-1]\n",
        "    df_1 = df[df['target']==1]\n",
        "    df_0 = df[df['target']==0]\n",
        "\n",
        "\n",
        "    sns.set_style('whitegrid')\n",
        "    plt.figure()\n",
        "    fig, ax = plt.subplots(nr_plot,nc_plot,figsize=(30,25))\n",
        "\n",
        "\n",
        "    for i,feature in enumerate(feature_list):\n",
        "        plt.subplot(nr_plot,nc_plot,i+1)\n",
        "        sns.kdeplot(df_0[feature], bw_method=0.5,label=\"0\")\n",
        "        sns.kdeplot(df_1[feature], bw_method=0.5,label=\"1\")\n",
        "        plt.xlabel(feature, fontsize=8)\n",
        "        locs, labels = plt.xticks()\n",
        "        plt.tick_params(axis='both', which='major', labelsize=8)\n",
        "        plt.legend()\n",
        "    plt.show();"
      ],
      "metadata": {
        "execution": {
          "iopub.status.busy": "2022-12-01T15:58:41.617471Z",
          "iopub.execute_input": "2022-12-01T15:58:41.617965Z",
          "iopub.status.idle": "2022-12-01T15:58:41.626098Z",
          "shell.execute_reply.started": "2022-12-01T15:58:41.617934Z",
          "shell.execute_reply": "2022-12-01T15:58:41.625137Z"
        },
        "trusted": true,
        "id": "Ny79l31LOuMJ"
      },
      "execution_count": null,
      "outputs": []
    },
    {
      "cell_type": "code",
      "source": [
        "group_kdePlot(df)"
      ],
      "metadata": {
        "execution": {
          "iopub.status.busy": "2022-12-01T15:58:41.627498Z",
          "iopub.execute_input": "2022-12-01T15:58:41.627809Z",
          "iopub.status.idle": "2022-12-01T15:58:50.281702Z",
          "shell.execute_reply.started": "2022-12-01T15:58:41.627780Z",
          "shell.execute_reply": "2022-12-01T15:58:50.280418Z"
        },
        "trusted": true,
        "colab": {
          "base_uri": "https://localhost:8080/",
          "height": 761
        },
        "id": "NeJCbk0SOuMJ",
        "outputId": "0499e697-5938-4994-ee2b-b7c44fd609c5"
      },
      "execution_count": null,
      "outputs": [
        {
          "output_type": "display_data",
          "data": {
            "text/plain": [
              "<Figure size 432x288 with 0 Axes>"
            ]
          },
          "metadata": {}
        },
        {
          "output_type": "display_data",
          "data": {
            "text/plain": [
              "<Figure size 2160x1800 with 49 Axes>"
            ],
            "image/png": "[encoded data removed]"
          },
          "metadata": {}
        }
      ]
    },
    {
      "cell_type": "markdown",
      "source": [
        "Based on the distritbution of two classes 0: No Spill, and 1: Spill:\n",
        "1. Features with good selectivity: f_1, f_40, f_47\n",
        "2. Features with bad selectivity with similar distribution profiles: \n",
        "    f_2, f_6, f_35, f_36, f_38,f_39,f_42, f_43, f_44, f_45, f_48, f_49"
      ],
      "metadata": {
        "id": "y_jZvVKkOuMJ"
      }
    },
    {
      "cell_type": "markdown",
      "source": [
        "### Feature selection"
      ],
      "metadata": {
        "id": "kuGtZF59OuMJ"
      }
    },
    {
      "cell_type": "markdown",
      "source": [
        "Perform feature selection based on the univariate statistical tests by computing the ANOVA F-value betwen numerical variables (e.g., f_1, f_2...) and categorical variables ('target'). The dataset will exclude f_46 because it is a categorical feature"
      ],
      "metadata": {
        "id": "4TrP0VLpOuMK"
      }
    },
    {
      "cell_type": "code",
      "source": [
        "from sklearn.feature_selection import SelectKBest\n",
        "from sklearn.feature_selection import f_classif"
      ],
      "metadata": {
        "execution": {
          "iopub.status.busy": "2022-12-01T15:58:50.283097Z",
          "iopub.execute_input": "2022-12-01T15:58:50.283535Z",
          "iopub.status.idle": "2022-12-01T15:58:50.550105Z",
          "shell.execute_reply.started": "2022-12-01T15:58:50.283508Z",
          "shell.execute_reply": "2022-12-01T15:58:50.548836Z"
        },
        "trusted": true,
        "id": "xb6sFgqNOuMK"
      },
      "execution_count": null,
      "outputs": []
    },
    {
      "cell_type": "code",
      "source": [
        "X = df.drop(['target','f_46'],axis=1)\n",
        "y = df['target']\n",
        "fs = SelectKBest(score_func=f_classif, k=25)\n",
        "X_selected = fs.fit_transform(X,y)"
      ],
      "metadata": {
        "execution": {
          "iopub.status.busy": "2022-12-01T15:58:50.551269Z",
          "iopub.execute_input": "2022-12-01T15:58:50.551555Z",
          "iopub.status.idle": "2022-12-01T15:58:50.562755Z",
          "shell.execute_reply.started": "2022-12-01T15:58:50.551529Z",
          "shell.execute_reply": "2022-12-01T15:58:50.561956Z"
        },
        "trusted": true,
        "id": "BoLlM3JrOuMK"
      },
      "execution_count": null,
      "outputs": []
    },
    {
      "cell_type": "code",
      "source": [
        "selected_features = fs.get_feature_names_out(input_features = X.columns.values)\n",
        "X_selected = pd.DataFrame(X_selected, columns = selected_features)\n",
        "X_selected['f_46']=df['f_46']\n",
        "X_selected.head()"
      ],
      "metadata": {
        "execution": {
          "iopub.status.busy": "2022-12-01T15:58:50.564016Z",
          "iopub.execute_input": "2022-12-01T15:58:50.564417Z",
          "iopub.status.idle": "2022-12-01T15:58:50.599338Z",
          "shell.execute_reply.started": "2022-12-01T15:58:50.564392Z",
          "shell.execute_reply": "2022-12-01T15:58:50.598095Z"
        },
        "trusted": true,
        "colab": {
          "base_uri": "https://localhost:8080/",
          "height": 299
        },
        "id": "161WaChjOuMK",
        "outputId": "b57343c5-3dec-4da0-d3e4-a8438968229f"
      },
      "execution_count": null,
      "outputs": [
        {
          "output_type": "execute_result",
          "data": {
            "text/plain": [
              "   f_1     f_4    f_5         f_6      f_9   f_11  f_13  f_14  f_16  f_20  \\\n",
              "0  1.0  456.63   90.0   6395000.0  29780.0  214.7  0.26  0.49  0.40  0.16   \n",
              "1  2.0  841.03  180.0  55812500.0  61900.0  901.7  0.03  0.11  0.11  0.02   \n",
              "2  3.0  608.43   88.0    287500.0   3340.0   86.1  0.32  0.50  0.34  0.19   \n",
              "3  4.0  295.65   66.0   3002500.0  18030.0  166.5  0.26  0.48  0.38  0.16   \n",
              "4  5.0  440.86   37.0    780000.0   3350.0  232.8  0.19  0.35  0.26  0.13   \n",
              "\n",
              "   ...  f_31   f_35     f_36    f_38  f_40     f_41      f_42     f_43  \\\n",
              "0  ... -0.18  310.0  16110.0  138.68  69.0  2850.00   1000.00   763.16   \n",
              "1  ...  0.00  704.0  40140.0   68.65  69.0  5750.00  11500.00  9593.48   \n",
              "2  ... -0.23   29.0   1530.0   38.80  69.0  1400.00    250.00   150.00   \n",
              "3  ... -0.33  183.0  10080.0  108.27  69.0  6041.52    761.58   453.21   \n",
              "4  ... -0.44   45.0   2340.0   14.39  69.0  1320.04    710.63   512.54   \n",
              "\n",
              "       f_47  f_46  \n",
              "0  33243.19     0  \n",
              "1  51572.04     0  \n",
              "2  31692.84     1  \n",
              "3  37696.21     1  \n",
              "4  29038.17     0  \n",
              "\n",
              "[5 rows x 26 columns]"
            ],
            "text/html": [
              "\n",
              "  <div id=\"df-d8a7069b-0d52-4b34-9655-95c05afe59d4\">\n",
              "    <div class=\"colab-df-container\">\n",
              "      <div>\n",
              "<style scoped>\n",
              "    .dataframe tbody tr th:only-of-type {\n",
              "        vertical-align: middle;\n",
              "    }\n",
              "\n",
              "    .dataframe tbody tr th {\n",
              "        vertical-align: top;\n",
              "    }\n",
              "\n",
              "    .dataframe thead th {\n",
              "        text-align: right;\n",
              "    }\n",
              "</style>\n",
              "<table border=\"1\" class=\"dataframe\">\n",
              "  <thead>\n",
              "    <tr style=\"text-align: right;\">\n",
              "      <th></th>\n",
              "      <th>f_1</th>\n",
              "      <th>f_4</th>\n",
              "      <th>f_5</th>\n",
              "      <th>f_6</th>\n",
              "      <th>f_9</th>\n",
              "      <th>f_11</th>\n",
              "      <th>f_13</th>\n",
              "      <th>f_14</th>\n",
              "      <th>f_16</th>\n",
              "      <th>f_20</th>\n",
              "      <th>...</th>\n",
              "      <th>f_31</th>\n",
              "      <th>f_35</th>\n",
              "      <th>f_36</th>\n",
              "      <th>f_38</th>\n",
              "      <th>f_40</th>\n",
              "      <th>f_41</th>\n",
              "      <th>f_42</th>\n",
              "      <th>f_43</th>\n",
              "      <th>f_47</th>\n",
              "      <th>f_46</th>\n",
              "    </tr>\n",
              "  </thead>\n",
              "  <tbody>\n",
              "    <tr>\n",
              "      <th>0</th>\n",
              "      <td>1.0</td>\n",
              "      <td>456.63</td>\n",
              "      <td>90.0</td>\n",
              "      <td>6395000.0</td>\n",
              "      <td>29780.0</td>\n",
              "      <td>214.7</td>\n",
              "      <td>0.26</td>\n",
              "      <td>0.49</td>\n",
              "      <td>0.40</td>\n",
              "      <td>0.16</td>\n",
              "      <td>...</td>\n",
              "      <td>-0.18</td>\n",
              "      <td>310.0</td>\n",
              "      <td>16110.0</td>\n",
              "      <td>138.68</td>\n",
              "      <td>69.0</td>\n",
              "      <td>2850.00</td>\n",
              "      <td>1000.00</td>\n",
              "      <td>763.16</td>\n",
              "      <td>33243.19</td>\n",
              "      <td>0</td>\n",
              "    </tr>\n",
              "    <tr>\n",
              "      <th>1</th>\n",
              "      <td>2.0</td>\n",
              "      <td>841.03</td>\n",
              "      <td>180.0</td>\n",
              "      <td>55812500.0</td>\n",
              "      <td>61900.0</td>\n",
              "      <td>901.7</td>\n",
              "      <td>0.03</td>\n",
              "      <td>0.11</td>\n",
              "      <td>0.11</td>\n",
              "      <td>0.02</td>\n",
              "      <td>...</td>\n",
              "      <td>0.00</td>\n",
              "      <td>704.0</td>\n",
              "      <td>40140.0</td>\n",
              "      <td>68.65</td>\n",
              "      <td>69.0</td>\n",
              "      <td>5750.00</td>\n",
              "      <td>11500.00</td>\n",
              "      <td>9593.48</td>\n",
              "      <td>51572.04</td>\n",
              "      <td>0</td>\n",
              "    </tr>\n",
              "    <tr>\n",
              "      <th>2</th>\n",
              "      <td>3.0</td>\n",
              "      <td>608.43</td>\n",
              "      <td>88.0</td>\n",
              "      <td>287500.0</td>\n",
              "      <td>3340.0</td>\n",
              "      <td>86.1</td>\n",
              "      <td>0.32</td>\n",
              "      <td>0.50</td>\n",
              "      <td>0.34</td>\n",
              "      <td>0.19</td>\n",
              "      <td>...</td>\n",
              "      <td>-0.23</td>\n",
              "      <td>29.0</td>\n",
              "      <td>1530.0</td>\n",
              "      <td>38.80</td>\n",
              "      <td>69.0</td>\n",
              "      <td>1400.00</td>\n",
              "      <td>250.00</td>\n",
              "      <td>150.00</td>\n",
              "      <td>31692.84</td>\n",
              "      <td>1</td>\n",
              "    </tr>\n",
              "    <tr>\n",
              "      <th>3</th>\n",
              "      <td>4.0</td>\n",
              "      <td>295.65</td>\n",
              "      <td>66.0</td>\n",
              "      <td>3002500.0</td>\n",
              "      <td>18030.0</td>\n",
              "      <td>166.5</td>\n",
              "      <td>0.26</td>\n",
              "      <td>0.48</td>\n",
              "      <td>0.38</td>\n",
              "      <td>0.16</td>\n",
              "      <td>...</td>\n",
              "      <td>-0.33</td>\n",
              "      <td>183.0</td>\n",
              "      <td>10080.0</td>\n",
              "      <td>108.27</td>\n",
              "      <td>69.0</td>\n",
              "      <td>6041.52</td>\n",
              "      <td>761.58</td>\n",
              "      <td>453.21</td>\n",
              "      <td>37696.21</td>\n",
              "      <td>1</td>\n",
              "    </tr>\n",
              "    <tr>\n",
              "      <th>4</th>\n",
              "      <td>5.0</td>\n",
              "      <td>440.86</td>\n",
              "      <td>37.0</td>\n",
              "      <td>780000.0</td>\n",
              "      <td>3350.0</td>\n",
              "      <td>232.8</td>\n",
              "      <td>0.19</td>\n",
              "      <td>0.35</td>\n",
              "      <td>0.26</td>\n",
              "      <td>0.13</td>\n",
              "      <td>...</td>\n",
              "      <td>-0.44</td>\n",
              "      <td>45.0</td>\n",
              "      <td>2340.0</td>\n",
              "      <td>14.39</td>\n",
              "      <td>69.0</td>\n",
              "      <td>1320.04</td>\n",
              "      <td>710.63</td>\n",
              "      <td>512.54</td>\n",
              "      <td>29038.17</td>\n",
              "      <td>0</td>\n",
              "    </tr>\n",
              "  </tbody>\n",
              "</table>\n",
              "<p>5 rows × 26 columns</p>\n",
              "</div>\n",
              "      <button class=\"colab-df-convert\" onclick=\"convertToInteractive('df-d8a7069b-0d52-4b34-9655-95c05afe59d4')\"\n",
              "              title=\"Convert this dataframe to an interactive table.\"\n",
              "              style=\"display:none;\">\n",
              "        \n",
              "  <svg xmlns=\"http://www.w3.org/2000/svg\" height=\"24px\"viewBox=\"0 0 24 24\"\n",
              "       width=\"24px\">\n",
              "    <path d=\"M0 0h24v24H0V0z\" fill=\"none\"/>\n",
              "    <path d=\"M18.56 5.44l.94 2.06.94-2.06 2.06-.94-2.06-.94-.94-2.06-.94 2.06-2.06.94zm-11 1L8.5 8.5l.94-2.06 2.06-.94-2.06-.94L8.5 2.5l-.94 2.06-2.06.94zm10 10l.94 2.06.94-2.06 2.06-.94-2.06-.94-.94-2.06-.94 2.06-2.06.94z\"/><path d=\"M17.41 7.96l-1.37-1.37c-.4-.4-.92-.59-1.43-.59-.52 0-1.04.2-1.43.59L10.3 9.45l-7.72 7.72c-.78.78-.78 2.05 0 2.83L4 21.41c.39.39.9.59 1.41.59.51 0 1.02-.2 1.41-.59l7.78-7.78 2.81-2.81c.8-.78.8-2.07 0-2.86zM5.41 20L4 18.59l7.72-7.72 1.47 1.35L5.41 20z\"/>\n",
              "  </svg>\n",
              "      </button>\n",
              "      \n",
              "  <style>\n",
              "    .colab-df-container {\n",
              "      display:flex;\n",
              "      flex-wrap:wrap;\n",
              "      gap: 12px;\n",
              "    }\n",
              "\n",
              "    .colab-df-convert {\n",
              "      background-color: #E8F0FE;\n",
              "      border: none;\n",
              "      border-radius: 50%;\n",
              "      cursor: pointer;\n",
              "      display: none;\n",
              "      fill: #1967D2;\n",
              "      height: 32px;\n",
              "      padding: 0 0 0 0;\n",
              "      width: 32px;\n",
              "    }\n",
              "\n",
              "    .colab-df-convert:hover {\n",
              "      background-color: #E2EBFA;\n",
              "      box-shadow: 0px 1px 2px rgba(60, 64, 67, 0.3), 0px 1px 3px 1px rgba(60, 64, 67, 0.15);\n",
              "      fill: #174EA6;\n",
              "    }\n",
              "\n",
              "    [theme=dark] .colab-df-convert {\n",
              "      background-color: #3B4455;\n",
              "      fill: #D2E3FC;\n",
              "    }\n",
              "\n",
              "    [theme=dark] .colab-df-convert:hover {\n",
              "      background-color: #434B5C;\n",
              "      box-shadow: 0px 1px 3px 1px rgba(0, 0, 0, 0.15);\n",
              "      filter: drop-shadow(0px 1px 2px rgba(0, 0, 0, 0.3));\n",
              "      fill: #FFFFFF;\n",
              "    }\n",
              "  </style>\n",
              "\n",
              "      <script>\n",
              "        const buttonEl =\n",
              "          document.querySelector('#df-d8a7069b-0d52-4b34-9655-95c05afe59d4 button.colab-df-convert');\n",
              "        buttonEl.style.display =\n",
              "          google.colab.kernel.accessAllowed ? 'block' : 'none';\n",
              "\n",
              "        async function convertToInteractive(key) {\n",
              "          const element = document.querySelector('#df-d8a7069b-0d52-4b34-9655-95c05afe59d4');\n",
              "          const dataTable =\n",
              "            await google.colab.kernel.invokeFunction('convertToInteractive',\n",
              "                                                     [key], {});\n",
              "          if (!dataTable) return;\n",
              "\n",
              "          const docLinkHtml = 'Like what you see? Visit the ' +\n",
              "            '<a target=\"_blank\" href=https://colab.research.google.com/notebooks/data_table.ipynb>data table notebook</a>'\n",
              "            + ' to learn more about interactive tables.';\n",
              "          element.innerHTML = '';\n",
              "          dataTable['output_type'] = 'display_data';\n",
              "          await google.colab.output.renderOutput(dataTable, element);\n",
              "          const docLink = document.createElement('div');\n",
              "          docLink.innerHTML = docLinkHtml;\n",
              "          element.appendChild(docLink);\n",
              "        }\n",
              "      </script>\n",
              "    </div>\n",
              "  </div>\n",
              "  "
            ]
          },
          "metadata": {},
          "execution_count": 88
        }
      ]
    },
    {
      "cell_type": "code",
      "source": [
        "print('List of selected numerical features:\\n',selected_features)"
      ],
      "metadata": {
        "execution": {
          "iopub.status.busy": "2022-12-01T15:58:50.600586Z",
          "iopub.execute_input": "2022-12-01T15:58:50.600904Z",
          "iopub.status.idle": "2022-12-01T15:58:50.607123Z",
          "shell.execute_reply.started": "2022-12-01T15:58:50.600877Z",
          "shell.execute_reply": "2022-12-01T15:58:50.605257Z"
        },
        "trusted": true,
        "colab": {
          "base_uri": "https://localhost:8080/"
        },
        "id": "Xmnsbwk9OuMK",
        "outputId": "d82596b6-1f3c-4647-fb08-f311e470fad0"
      },
      "execution_count": null,
      "outputs": [
        {
          "output_type": "stream",
          "name": "stdout",
          "text": [
            "List of selected numerical features:\n",
            " ['f_1' 'f_4' 'f_5' 'f_6' 'f_9' 'f_11' 'f_13' 'f_14' 'f_16' 'f_20' 'f_22'\n",
            " 'f_24' 'f_26' 'f_27' 'f_28' 'f_30' 'f_31' 'f_35' 'f_36' 'f_38' 'f_40'\n",
            " 'f_41' 'f_42' 'f_43' 'f_47']\n"
          ]
        }
      ]
    },
    {
      "cell_type": "markdown",
      "source": [
        "### Prepare train and test dataset "
      ],
      "metadata": {
        "id": "o3nRaAWQOuMK"
      }
    },
    {
      "cell_type": "code",
      "source": [
        "# Split dataset to train and test set:\n",
        "from sklearn.model_selection import train_test_split"
      ],
      "metadata": {
        "execution": {
          "iopub.status.busy": "2022-12-01T15:58:50.609427Z",
          "iopub.execute_input": "2022-12-01T15:58:50.609856Z",
          "iopub.status.idle": "2022-12-01T15:58:50.621114Z",
          "shell.execute_reply.started": "2022-12-01T15:58:50.609823Z",
          "shell.execute_reply": "2022-12-01T15:58:50.619641Z"
        },
        "trusted": true,
        "id": "l-hm5KwbOuMK"
      },
      "execution_count": null,
      "outputs": []
    },
    {
      "cell_type": "code",
      "source": [
        "X_train, X_test, y_train, y_test = train_test_split(X_selected, y, test_size=0.25,\n",
        "                                                    stratify = y,\n",
        "                                                    random_state=100)"
      ],
      "metadata": {
        "execution": {
          "iopub.status.busy": "2022-12-01T15:58:50.622650Z",
          "iopub.execute_input": "2022-12-01T15:58:50.623098Z",
          "iopub.status.idle": "2022-12-01T15:58:50.637076Z",
          "shell.execute_reply.started": "2022-12-01T15:58:50.623070Z",
          "shell.execute_reply": "2022-12-01T15:58:50.635853Z"
        },
        "trusted": true,
        "id": "bzH04S5XOuML"
      },
      "execution_count": null,
      "outputs": []
    },
    {
      "cell_type": "code",
      "source": [
        "print('Label in train dataset:\\n')\n",
        "neg_train, pos_train = get_class_data(y_train)\n",
        "print('Label in test dataset:\\n')\n",
        "neg_test, pos_test = get_class_data(y_test)\n"
      ],
      "metadata": {
        "execution": {
          "iopub.status.busy": "2022-12-01T15:58:50.638507Z",
          "iopub.execute_input": "2022-12-01T15:58:50.639050Z",
          "iopub.status.idle": "2022-12-01T15:58:50.647859Z",
          "shell.execute_reply.started": "2022-12-01T15:58:50.639019Z",
          "shell.execute_reply": "2022-12-01T15:58:50.646665Z"
        },
        "trusted": true,
        "colab": {
          "base_uri": "https://localhost:8080/"
        },
        "id": "LYBDJe7_OuML",
        "outputId": "5a124dc9-59e7-43ba-c88b-6f1579dd099a"
      },
      "execution_count": null,
      "outputs": [
        {
          "output_type": "stream",
          "name": "stdout",
          "text": [
            "Label in train dataset:\n",
            "\n",
            "Total: 702\n",
            "   Record of oil spill: 31 (4.42% of total)\n",
            "   Record of no oil spill: 671 (95.58% of total)\n",
            "Label in test dataset:\n",
            "\n",
            "Total: 235\n",
            "   Record of oil spill: 10 (4.26% of total)\n",
            "   Record of no oil spill: 225 (95.74% of total)\n"
          ]
        }
      ]
    },
    {
      "cell_type": "markdown",
      "source": [
        "### Normalize the input features"
      ],
      "metadata": {
        "id": "5a7P0ghBOuML"
      }
    },
    {
      "cell_type": "code",
      "source": [
        "from sklearn.preprocessing import StandardScaler"
      ],
      "metadata": {
        "execution": {
          "iopub.status.busy": "2022-12-01T15:58:50.649459Z",
          "iopub.execute_input": "2022-12-01T15:58:50.651027Z",
          "iopub.status.idle": "2022-12-01T15:58:50.658234Z",
          "shell.execute_reply.started": "2022-12-01T15:58:50.650975Z",
          "shell.execute_reply": "2022-12-01T15:58:50.657137Z"
        },
        "trusted": true,
        "id": "hKsXUmL0OuML"
      },
      "execution_count": null,
      "outputs": []
    },
    {
      "cell_type": "code",
      "source": [
        "scaler = StandardScaler()\n",
        "X_train = scaler.fit_transform(X_train)\n",
        "X_test = scaler.transform(X_test)"
      ],
      "metadata": {
        "execution": {
          "iopub.status.busy": "2022-12-01T15:58:50.659425Z",
          "iopub.execute_input": "2022-12-01T15:58:50.659975Z",
          "iopub.status.idle": "2022-12-01T15:58:50.675845Z",
          "shell.execute_reply.started": "2022-12-01T15:58:50.659937Z",
          "shell.execute_reply": "2022-12-01T15:58:50.674703Z"
        },
        "trusted": true,
        "id": "wt5-QFzPOuML"
      },
      "execution_count": null,
      "outputs": []
    },
    {
      "cell_type": "markdown",
      "source": [
        "# Data augmentation for class imbalanced dataset\n",
        "\n",
        "Oversampling technique to reduce the imbalanceness in the dataset"
      ],
      "metadata": {
        "id": "mWFukVxCehKK"
      }
    },
    {
      "cell_type": "code",
      "source": [
        "from collections import Counter\n",
        "from imblearn.over_sampling import SMOTE, ADASYN \n",
        "from imblearn.combine import SMOTETomek, SMOTEENN "
      ],
      "metadata": {
        "id": "otRxGY0Neozw"
      },
      "execution_count": null,
      "outputs": []
    },
    {
      "cell_type": "markdown",
      "source": [
        "#### Implement SMOTE (Synthetic Minority Over-sampling Technique)"
      ],
      "metadata": {
        "id": "4qcv3AVAe_Z_"
      }
    },
    {
      "cell_type": "code",
      "source": [
        "print('Original dataset shape %s' % Counter(y_train))"
      ],
      "metadata": {
        "colab": {
          "base_uri": "https://localhost:8080/"
        },
        "id": "C1KyEkFTeuzw",
        "outputId": "f30f5272-9f5e-4b41-db37-21a1fd6e6a3c"
      },
      "execution_count": null,
      "outputs": [
        {
          "output_type": "stream",
          "name": "stdout",
          "text": [
            "Original dataset shape Counter({0: 671, 1: 31})\n"
          ]
        }
      ]
    },
    {
      "cell_type": "code",
      "source": [
        "sm = SMOTE(random_state=100)\n",
        "X_train_sm, y_train_sm = sm.fit_resample(X_train, y_train)\n",
        "print('Resampled dataset shape %s' % Counter(y_train_sm))"
      ],
      "metadata": {
        "colab": {
          "base_uri": "https://localhost:8080/"
        },
        "id": "mpU2eapzg9Fx",
        "outputId": "ba3ae32a-943a-47df-940b-8731fd92a8e0"
      },
      "execution_count": null,
      "outputs": [
        {
          "output_type": "stream",
          "name": "stdout",
          "text": [
            "Resampled dataset shape Counter({0: 671, 1: 671})\n"
          ]
        }
      ]
    },
    {
      "cell_type": "markdown",
      "source": [
        "#### Implement ADASYN (Adaptive Synthetic algorithm)"
      ],
      "metadata": {
        "id": "mT4tSoBIjfOk"
      }
    },
    {
      "cell_type": "code",
      "source": [
        "ada = ADASYN(random_state=100)\n",
        "X_train_ada, y_train_ada = ada.fit_resample(X_train, y_train)\n",
        "print('Resampled dataset shape %s' % Counter(y_train_ada))"
      ],
      "metadata": {
        "colab": {
          "base_uri": "https://localhost:8080/"
        },
        "id": "rHGBdZS8jq5-",
        "outputId": "6aa00666-2f41-419b-da37-4647eebe674e"
      },
      "execution_count": null,
      "outputs": [
        {
          "output_type": "stream",
          "name": "stdout",
          "text": [
            "Resampled dataset shape Counter({0: 671, 1: 669})\n"
          ]
        }
      ]
    },
    {
      "cell_type": "markdown",
      "source": [
        "#### Implement SMOTE + Tomek Links\n",
        "Combine over- and under-sampling using SMOTE and Tomek links."
      ],
      "metadata": {
        "id": "108wM3Yrj5nN"
      }
    },
    {
      "cell_type": "code",
      "source": [
        "smt = SMOTETomek(random_state=100)\n",
        "X_train_smt, y_train_smt = smt.fit_resample(X_train, y_train)\n",
        "print('Resampled dataset shape %s' % Counter(y_train_smt))"
      ],
      "metadata": {
        "colab": {
          "base_uri": "https://localhost:8080/"
        },
        "id": "t_AyKv38kARp",
        "outputId": "6987a42c-ee65-4707-e04a-b60f62597518"
      },
      "execution_count": null,
      "outputs": [
        {
          "output_type": "stream",
          "name": "stdout",
          "text": [
            "Resampled dataset shape Counter({0: 671, 1: 671})\n"
          ]
        }
      ]
    },
    {
      "cell_type": "code",
      "source": [],
      "metadata": {
        "id": "D9wWk3DZkqtZ"
      },
      "execution_count": null,
      "outputs": []
    },
    {
      "cell_type": "markdown",
      "source": [
        "#### Implement SMOTE + ENN\n",
        "Combine over- and under-sampling using SMOTE and Edited Nearest Neighbours."
      ],
      "metadata": {
        "id": "692olE9XkwrC"
      }
    },
    {
      "cell_type": "code",
      "source": [
        "sme = SMOTEENN(random_state=100)\n",
        "X_train_sme, y_train_sme = sme.fit_resample(X_train, y_train)\n",
        "print('Resampled dataset shape %s' % Counter(y_train_sme))"
      ],
      "metadata": {
        "colab": {
          "base_uri": "https://localhost:8080/"
        },
        "id": "F8MP78dUk2U5",
        "outputId": "93e9b8d2-70bd-4696-c37e-556529c6a09c"
      },
      "execution_count": null,
      "outputs": [
        {
          "output_type": "stream",
          "name": "stdout",
          "text": [
            "Resampled dataset shape Counter({1: 670, 0: 607})\n"
          ]
        }
      ]
    },
    {
      "cell_type": "markdown",
      "source": [
        "#### Random Undersampling (RUS)"
      ],
      "metadata": {
        "id": "_5j5OfqAzS2e"
      }
    },
    {
      "cell_type": "code",
      "source": [
        "from imblearn.under_sampling import RandomUnderSampler"
      ],
      "metadata": {
        "id": "9v2APQrazRvw"
      },
      "execution_count": null,
      "outputs": []
    },
    {
      "cell_type": "code",
      "source": [
        "rus = RandomUnderSampler(random_state=100,sampling_strategy=0.25)\n",
        "X_train_rus, y_train_rus = rus.fit_resample(X_train, y_train)\n",
        "print('Resampled dataset shape %s' % Counter(y_train_rus))"
      ],
      "metadata": {
        "colab": {
          "base_uri": "https://localhost:8080/"
        },
        "id": "qoesff5NzhLF",
        "outputId": "aa7e5ff3-3fc1-4ae1-e789-2ebf8c1910ad"
      },
      "execution_count": null,
      "outputs": [
        {
          "output_type": "stream",
          "name": "stdout",
          "text": [
            "Resampled dataset shape Counter({0: 124, 1: 31})\n"
          ]
        }
      ]
    },
    {
      "cell_type": "markdown",
      "source": [
        "#### Hybrid: UnderSampling+Oversampling"
      ],
      "metadata": {
        "id": "_0YvsFjp1QPu"
      }
    },
    {
      "cell_type": "code",
      "source": [
        "from imblearn.over_sampling import RandomOverSampler"
      ],
      "metadata": {
        "id": "QAGRL-KU1Wvs"
      },
      "execution_count": null,
      "outputs": []
    },
    {
      "cell_type": "code",
      "source": [
        "hybrid = RandomOverSampler(random_state=100, sampling_strategy=0.5)\n",
        "X_train_hybrid, y_train_hybrid = hybrid.fit_resample(X_train_rus, y_train_rus)\n",
        "print('Resampled dataset shape %s' % Counter(y_train_hybrid))"
      ],
      "metadata": {
        "colab": {
          "base_uri": "https://localhost:8080/"
        },
        "id": "rJXOly5j1bbI",
        "outputId": "e1a1b9d5-c994-488e-fd75-f42451ec6258"
      },
      "execution_count": null,
      "outputs": [
        {
          "output_type": "stream",
          "name": "stdout",
          "text": [
            "Resampled dataset shape Counter({0: 124, 1: 62})\n"
          ]
        }
      ]
    },
    {
      "cell_type": "markdown",
      "source": [
        "# Random forest model"
      ],
      "metadata": {
        "id": "73qNJGA7oKSu"
      }
    },
    {
      "cell_type": "code",
      "source": [
        "from sklearn.ensemble import RandomForestClassifier\n",
        "from sklearn.model_selection import RandomizedSearchCV\n",
        "from sklearn.metrics import precision_score, roc_auc_score, recall_score, f1_score\n",
        "from sklearn.metrics import confusion_matrix, classification_report"
      ],
      "metadata": {
        "id": "AsnCPydBoMgx"
      },
      "execution_count": null,
      "outputs": []
    },
    {
      "cell_type": "code",
      "source": [
        "def test_eval(clf_model, X_test, y_test, algo=None, sampling=None,model_type=None):\n",
        "    # Test set prediction\n",
        "    y_prob=clf_model.predict_proba(X_test)\n",
        "    y_pred=clf_model.predict(X_test)\n",
        "\n",
        "    print('Confusion Matrix')\n",
        "    print('='*60)\n",
        "    print(confusion_matrix(y_test,y_pred),\"\\n\")\n",
        "    print('Classification Report')\n",
        "    print('='*60)\n",
        "    print(classification_report(y_test,y_pred),\"\\n\")\n",
        "    print('AUC-ROC')\n",
        "    print('='*60)\n",
        "    print(roc_auc_score(y_test, y_prob[:,1]))\n",
        "          \n",
        "    score = {'model':model_type,\n",
        "              'resample':sampling,\n",
        "              'precision':precision_score(y_test,y_pred),\n",
        "              'recall':recall_score(y_test,y_pred),\n",
        "              'f1-score':f1_score(y_test,y_pred),\n",
        "              'AUC-ROC': roc_auc_score(y_test, y_prob[:,1])}\n",
        "    return score"
      ],
      "metadata": {
        "id": "YW5AXe9nwSva"
      },
      "execution_count": null,
      "outputs": []
    },
    {
      "cell_type": "markdown",
      "source": [
        "### Baseline model"
      ],
      "metadata": {
        "id": "ao8gJgS_wCn0"
      }
    },
    {
      "cell_type": "code",
      "source": [
        "estimators = [1,20,30,60,120]\n",
        "# Maximum number of depth in each tree:\n",
        "max_depth = [i for i in range(5,20,2)]\n",
        "# Minimum number of samples to consider to split a node:\n",
        "min_samples_split = [2, 5, 10, 15, 20, 50, 100]\n",
        "# Minimum number of samples to consider at each leaf node:\n",
        "min_samples_leaf = [1, 2, 5]"
      ],
      "metadata": {
        "id": "yRl4u4V0wicX"
      },
      "execution_count": null,
      "outputs": []
    },
    {
      "cell_type": "code",
      "source": [
        "rf_model = RandomForestClassifier()\n",
        "\n",
        "rf_params={'n_estimators':estimators,\n",
        "           'max_depth':max_depth,\n",
        "           'min_samples_split':min_samples_split}\n",
        "\n",
        "clf_RF = RandomizedSearchCV(rf_model, rf_params, cv=5, scoring='f1', n_jobs=-1, n_iter=20, verbose=2,random_state=100)\n",
        "clf_RF.fit(X_train, y_train)\n",
        "clf_RF.best_estimator_"
      ],
      "metadata": {
        "colab": {
          "base_uri": "https://localhost:8080/"
        },
        "id": "jA1VVfvmvcyi",
        "outputId": "c29b950a-0c72-4737-f20a-a42e60a25c15"
      },
      "execution_count": null,
      "outputs": [
        {
          "output_type": "stream",
          "name": "stdout",
          "text": [
            "Fitting 5 folds for each of 20 candidates, totalling 100 fits\n"
          ]
        },
        {
          "output_type": "execute_result",
          "data": {
            "text/plain": [
              "RandomForestClassifier(max_depth=19, min_samples_split=5, n_estimators=60)"
            ]
          },
          "metadata": {},
          "execution_count": 262
        }
      ]
    },
    {
      "cell_type": "code",
      "source": [
        "score_rf_normal = test_eval(clf_RF,X_test,y_test, sampling='actual',model_type = 'rf')"
      ],
      "metadata": {
        "colab": {
          "base_uri": "https://localhost:8080/"
        },
        "id": "ZrcNXUGWxEPC",
        "outputId": "f677449f-8e13-4b58-d304-21d5ab7c93c5"
      },
      "execution_count": null,
      "outputs": [
        {
          "output_type": "stream",
          "name": "stdout",
          "text": [
            "Confusion Matrix\n",
            "============================================================\n",
            "[[221   4]\n",
            " [  9   1]] \n",
            "\n",
            "Classification Report\n",
            "============================================================\n",
            "              precision    recall  f1-score   support\n",
            "\n",
            "           0       0.96      0.98      0.97       225\n",
            "           1       0.20      0.10      0.13        10\n",
            "\n",
            "    accuracy                           0.94       235\n",
            "   macro avg       0.58      0.54      0.55       235\n",
            "weighted avg       0.93      0.94      0.94       235\n",
            " \n",
            "\n",
            "AUC-ROC\n",
            "============================================================\n",
            "0.8728888888888889\n"
          ]
        }
      ]
    },
    {
      "cell_type": "markdown",
      "source": [
        "### RF with SMOTE"
      ],
      "metadata": {
        "id": "S1jBCsplxFrE"
      }
    },
    {
      "cell_type": "code",
      "source": [
        "#SMOTE:\n",
        "clf_RF.fit(X_train_sm, y_train_sm)\n",
        "clf_RF.best_estimator_"
      ],
      "metadata": {
        "colab": {
          "base_uri": "https://localhost:8080/"
        },
        "id": "BsXL1_Afx3y6",
        "outputId": "781bd5c1-3dd1-4dec-f47f-baaee67719f3"
      },
      "execution_count": null,
      "outputs": [
        {
          "output_type": "stream",
          "name": "stdout",
          "text": [
            "Fitting 5 folds for each of 20 candidates, totalling 100 fits\n"
          ]
        },
        {
          "output_type": "execute_result",
          "data": {
            "text/plain": [
              "RandomForestClassifier(max_depth=15, min_samples_split=10, n_estimators=120)"
            ]
          },
          "metadata": {},
          "execution_count": 264
        }
      ]
    },
    {
      "cell_type": "code",
      "source": [
        "score_rf_sm = test_eval(clf_RF,X_test,y_test,sampling = 'smote',model_type = 'rf')"
      ],
      "metadata": {
        "colab": {
          "base_uri": "https://localhost:8080/"
        },
        "id": "72Yh19yayy2h",
        "outputId": "c667c4ec-5200-4a8c-b2fc-793ff12eeed6"
      },
      "execution_count": null,
      "outputs": [
        {
          "output_type": "stream",
          "name": "stdout",
          "text": [
            "Confusion Matrix\n",
            "============================================================\n",
            "[[222   3]\n",
            " [  5   5]] \n",
            "\n",
            "Classification Report\n",
            "============================================================\n",
            "              precision    recall  f1-score   support\n",
            "\n",
            "           0       0.98      0.99      0.98       225\n",
            "           1       0.62      0.50      0.56        10\n",
            "\n",
            "    accuracy                           0.97       235\n",
            "   macro avg       0.80      0.74      0.77       235\n",
            "weighted avg       0.96      0.97      0.96       235\n",
            " \n",
            "\n",
            "AUC-ROC\n",
            "============================================================\n",
            "0.88\n"
          ]
        }
      ]
    },
    {
      "cell_type": "markdown",
      "source": [
        "### RF with ADASYN"
      ],
      "metadata": {
        "id": "YdHIZ5WAxMQq"
      }
    },
    {
      "cell_type": "code",
      "source": [
        "#ADASYN\n",
        "clf_RF.fit(X_train_ada, y_train_ada)\n",
        "clf_RF.best_estimator_"
      ],
      "metadata": {
        "colab": {
          "base_uri": "https://localhost:8080/"
        },
        "id": "NglreRfGy-JS",
        "outputId": "8e215aa3-ca72-4940-9302-2f085acb54d8"
      },
      "execution_count": null,
      "outputs": [
        {
          "output_type": "stream",
          "name": "stdout",
          "text": [
            "Fitting 5 folds for each of 20 candidates, totalling 100 fits\n"
          ]
        },
        {
          "output_type": "execute_result",
          "data": {
            "text/plain": [
              "RandomForestClassifier(max_depth=19, min_samples_split=5, n_estimators=60)"
            ]
          },
          "metadata": {},
          "execution_count": 266
        }
      ]
    },
    {
      "cell_type": "code",
      "source": [
        "score_rf_ada = test_eval(clf_RF,X_test,y_test,sampling = 'adasyn',model_type = 'rf')"
      ],
      "metadata": {
        "colab": {
          "base_uri": "https://localhost:8080/"
        },
        "id": "OaKRtUANzYKS",
        "outputId": "e7535ee4-bf69-449c-c469-1bbc8d1bc3db"
      },
      "execution_count": null,
      "outputs": [
        {
          "output_type": "stream",
          "name": "stdout",
          "text": [
            "Confusion Matrix\n",
            "============================================================\n",
            "[[222   3]\n",
            " [  6   4]] \n",
            "\n",
            "Classification Report\n",
            "============================================================\n",
            "              precision    recall  f1-score   support\n",
            "\n",
            "           0       0.97      0.99      0.98       225\n",
            "           1       0.57      0.40      0.47        10\n",
            "\n",
            "    accuracy                           0.96       235\n",
            "   macro avg       0.77      0.69      0.73       235\n",
            "weighted avg       0.96      0.96      0.96       235\n",
            " \n",
            "\n",
            "AUC-ROC\n",
            "============================================================\n",
            "0.8708888888888889\n"
          ]
        }
      ]
    },
    {
      "cell_type": "markdown",
      "source": [
        "### RF with SMOTE+TOMEK"
      ],
      "metadata": {
        "id": "PW8qZODExO7X"
      }
    },
    {
      "cell_type": "code",
      "source": [
        "#SMOTE_TOMEK\n",
        "clf_RF.fit(X_train_smt, y_train_smt)\n",
        "clf_RF.best_estimator_"
      ],
      "metadata": {
        "colab": {
          "base_uri": "https://localhost:8080/"
        },
        "id": "uEYUfD52zayC",
        "outputId": "0c94eaea-ef82-483f-9dff-990a5f40709f"
      },
      "execution_count": null,
      "outputs": [
        {
          "output_type": "stream",
          "name": "stdout",
          "text": [
            "Fitting 5 folds for each of 20 candidates, totalling 100 fits\n"
          ]
        },
        {
          "output_type": "execute_result",
          "data": {
            "text/plain": [
              "RandomForestClassifier(max_depth=19, min_samples_split=5, n_estimators=60)"
            ]
          },
          "metadata": {},
          "execution_count": 268
        }
      ]
    },
    {
      "cell_type": "code",
      "source": [
        "score_rf_smt = test_eval(clf_RF,X_test,y_test,sampling = 'smote_tomek',model_type = 'rf')\n"
      ],
      "metadata": {
        "colab": {
          "base_uri": "https://localhost:8080/"
        },
        "id": "hrS9k6sMziLi",
        "outputId": "0b0f3669-7cf7-4f76-fcbf-eb0ea2778d08"
      },
      "execution_count": null,
      "outputs": [
        {
          "output_type": "stream",
          "name": "stdout",
          "text": [
            "Confusion Matrix\n",
            "============================================================\n",
            "[[222   3]\n",
            " [  5   5]] \n",
            "\n",
            "Classification Report\n",
            "============================================================\n",
            "              precision    recall  f1-score   support\n",
            "\n",
            "           0       0.98      0.99      0.98       225\n",
            "           1       0.62      0.50      0.56        10\n",
            "\n",
            "    accuracy                           0.97       235\n",
            "   macro avg       0.80      0.74      0.77       235\n",
            "weighted avg       0.96      0.97      0.96       235\n",
            " \n",
            "\n",
            "AUC-ROC\n",
            "============================================================\n",
            "0.912\n"
          ]
        }
      ]
    },
    {
      "cell_type": "markdown",
      "source": [
        "### RF with SMOTE+ENN"
      ],
      "metadata": {
        "id": "vo78PARaxSP0"
      }
    },
    {
      "cell_type": "code",
      "source": [
        "#SMOTE+ENN\n",
        "clf_RF.fit(X_train_sme, y_train_sme)\n",
        "clf_RF.best_estimator_"
      ],
      "metadata": {
        "colab": {
          "base_uri": "https://localhost:8080/"
        },
        "id": "EupBT1tHzlaC",
        "outputId": "358b9ae8-beef-4d1e-b8ea-35a027178191"
      },
      "execution_count": null,
      "outputs": [
        {
          "output_type": "stream",
          "name": "stdout",
          "text": [
            "Fitting 5 folds for each of 20 candidates, totalling 100 fits\n"
          ]
        },
        {
          "output_type": "execute_result",
          "data": {
            "text/plain": [
              "RandomForestClassifier(max_depth=15, min_samples_split=10, n_estimators=120)"
            ]
          },
          "metadata": {},
          "execution_count": 270
        }
      ]
    },
    {
      "cell_type": "code",
      "source": [
        "score_rf_sme = test_eval(clf_RF,X_test,y_test,sampling = 'smote_enn',model_type = 'rf')\n",
        "y_pred=clf_RF.predict(X_test)"
      ],
      "metadata": {
        "colab": {
          "base_uri": "https://localhost:8080/"
        },
        "id": "3Lq6ma9ozs6S",
        "outputId": "cbf51981-3c6e-4ad5-ff38-06d30541107a"
      },
      "execution_count": null,
      "outputs": [
        {
          "output_type": "stream",
          "name": "stdout",
          "text": [
            "Confusion Matrix\n",
            "============================================================\n",
            "[[218   7]\n",
            " [  4   6]] \n",
            "\n",
            "Classification Report\n",
            "============================================================\n",
            "              precision    recall  f1-score   support\n",
            "\n",
            "           0       0.98      0.97      0.98       225\n",
            "           1       0.46      0.60      0.52        10\n",
            "\n",
            "    accuracy                           0.95       235\n",
            "   macro avg       0.72      0.78      0.75       235\n",
            "weighted avg       0.96      0.95      0.96       235\n",
            " \n",
            "\n",
            "AUC-ROC\n",
            "============================================================\n",
            "0.9346666666666668\n"
          ]
        }
      ]
    },
    {
      "cell_type": "markdown",
      "source": [
        "### RF with RUS"
      ],
      "metadata": {
        "id": "5m8iuAOE0AQF"
      }
    },
    {
      "cell_type": "code",
      "source": [
        "#RUS\n",
        "clf_RF.fit(X_train_rus, y_train_rus)\n",
        "clf_RF.best_estimator_"
      ],
      "metadata": {
        "colab": {
          "base_uri": "https://localhost:8080/"
        },
        "id": "haKgR4D1z_nk",
        "outputId": "c6044b9c-56d0-45c3-b914-4db436208f05"
      },
      "execution_count": null,
      "outputs": [
        {
          "output_type": "stream",
          "name": "stdout",
          "text": [
            "Fitting 5 folds for each of 20 candidates, totalling 100 fits\n"
          ]
        },
        {
          "output_type": "execute_result",
          "data": {
            "text/plain": [
              "RandomForestClassifier(max_depth=19, min_samples_split=15, n_estimators=30)"
            ]
          },
          "metadata": {},
          "execution_count": 272
        }
      ]
    },
    {
      "cell_type": "code",
      "source": [
        "score_rf_rus = test_eval(clf_RF,X_test,y_test,sampling = 'rus',model_type = 'rf')\n",
        "y_pred=clf_RF.predict(X_test)"
      ],
      "metadata": {
        "colab": {
          "base_uri": "https://localhost:8080/"
        },
        "id": "y9QZ6do70Klf",
        "outputId": "60a080f3-7c7c-4ad5-e15c-4aa1a1454152"
      },
      "execution_count": null,
      "outputs": [
        {
          "output_type": "stream",
          "name": "stdout",
          "text": [
            "Confusion Matrix\n",
            "============================================================\n",
            "[[208  17]\n",
            " [  3   7]] \n",
            "\n",
            "Classification Report\n",
            "============================================================\n",
            "              precision    recall  f1-score   support\n",
            "\n",
            "           0       0.99      0.92      0.95       225\n",
            "           1       0.29      0.70      0.41        10\n",
            "\n",
            "    accuracy                           0.91       235\n",
            "   macro avg       0.64      0.81      0.68       235\n",
            "weighted avg       0.96      0.91      0.93       235\n",
            " \n",
            "\n",
            "AUC-ROC\n",
            "============================================================\n",
            "0.908888888888889\n"
          ]
        }
      ]
    },
    {
      "cell_type": "markdown",
      "source": [
        "### RF with HYBRID"
      ],
      "metadata": {
        "id": "ZAfEZICG2J7_"
      }
    },
    {
      "cell_type": "code",
      "source": [
        "#Hybrid\n",
        "clf_RF.fit(X_train_hybrid, y_train_hybrid)\n",
        "clf_RF.best_estimator_"
      ],
      "metadata": {
        "colab": {
          "base_uri": "https://localhost:8080/"
        },
        "id": "gvSEJyOX2Muu",
        "outputId": "af366f59-ce94-4b18-ed3a-97ce44756a08"
      },
      "execution_count": null,
      "outputs": [
        {
          "output_type": "stream",
          "name": "stdout",
          "text": [
            "Fitting 5 folds for each of 20 candidates, totalling 100 fits\n"
          ]
        },
        {
          "output_type": "execute_result",
          "data": {
            "text/plain": [
              "RandomForestClassifier(max_depth=19, min_samples_split=5, n_estimators=60)"
            ]
          },
          "metadata": {},
          "execution_count": 274
        }
      ]
    },
    {
      "cell_type": "code",
      "source": [
        "score_rf_hybrid = test_eval(clf_RF,X_test,y_test,sampling = 'hybrid',model_type = 'rf')\n",
        "y_pred=clf_RF.predict(X_test)"
      ],
      "metadata": {
        "colab": {
          "base_uri": "https://localhost:8080/"
        },
        "id": "nOl7PyaM2QTz",
        "outputId": "03a9d46a-cf67-43d3-e6a1-e23a5c0c2300"
      },
      "execution_count": null,
      "outputs": [
        {
          "output_type": "stream",
          "name": "stdout",
          "text": [
            "Confusion Matrix\n",
            "============================================================\n",
            "[[209  16]\n",
            " [  3   7]] \n",
            "\n",
            "Classification Report\n",
            "============================================================\n",
            "              precision    recall  f1-score   support\n",
            "\n",
            "           0       0.99      0.93      0.96       225\n",
            "           1       0.30      0.70      0.42        10\n",
            "\n",
            "    accuracy                           0.92       235\n",
            "   macro avg       0.65      0.81      0.69       235\n",
            "weighted avg       0.96      0.92      0.93       235\n",
            " \n",
            "\n",
            "AUC-ROC\n",
            "============================================================\n",
            "0.9293333333333333\n"
          ]
        }
      ]
    },
    {
      "cell_type": "markdown",
      "source": [
        "### RF Score"
      ],
      "metadata": {
        "id": "K1gQRw_bxVMO"
      }
    },
    {
      "cell_type": "code",
      "source": [
        "score_rf = [score_rf_normal, score_rf_sm, score_rf_ada, score_rf_smt, score_rf_sme,\n",
        "            score_rf_rus, score_rf_hybrid]"
      ],
      "metadata": {
        "id": "OM4fpZmGM7df"
      },
      "execution_count": null,
      "outputs": []
    },
    {
      "cell_type": "code",
      "source": [
        "score= pd.DataFrame(score_rf)"
      ],
      "metadata": {
        "id": "oYGlND9St1eS"
      },
      "execution_count": null,
      "outputs": []
    },
    {
      "cell_type": "markdown",
      "source": [
        "# XGBOOST classification"
      ],
      "metadata": {
        "id": "ExaRztTMxnW9"
      }
    },
    {
      "cell_type": "code",
      "source": [
        "from xgboost import XGBClassifier\n",
        "from sklearn.model_selection import GridSearchCV\n",
        "from sklearn.model_selection import RepeatedStratifiedKFold\n",
        "from sklearn.metrics import f1_score"
      ],
      "metadata": {
        "id": "6b0NPPbv7gZq"
      },
      "execution_count": null,
      "outputs": []
    },
    {
      "cell_type": "code",
      "source": [
        "params = {\n",
        "    'learning_rate' : [0.05,0.10,0.15,0.20,0.25,0.30],\n",
        "    'max_depth' : [ 1,5,10,20,30,60],\n",
        "    'max_leaves': [1,5,10,20,30,60,90],\n",
        "    'gamma': [ 0.0, 0.1, 0.2 , 0.3, 0.4 ],\n",
        "    'scale_pos_weight': [1, 10, 25, 50, 75, 99, 100, 1000]\n",
        "}"
      ],
      "metadata": {
        "id": "XVjSsvLS9gnM"
      },
      "execution_count": null,
      "outputs": []
    },
    {
      "cell_type": "code",
      "source": [
        "model_xgb = XGBClassifier()\n",
        "# define evaluation procedure\n",
        "cv = RepeatedStratifiedKFold(n_splits=10, n_repeats=3, random_state=1)\n",
        "xgb = RandomizedSearchCV(model_xgb, params, cv=cv,\n",
        "                    scoring='f1', n_jobs=-1, n_iter=20,\n",
        "                    verbose=1, random_state=1)\n",
        "\n"
      ],
      "metadata": {
        "id": "JAiKolCC7qi2"
      },
      "execution_count": null,
      "outputs": []
    },
    {
      "cell_type": "code",
      "source": [
        "xgb.fit(X_train, y_train)\n",
        "print(\"Best: %f using %s\" % (xgb.best_score_, xgb.best_params_))"
      ],
      "metadata": {
        "colab": {
          "base_uri": "https://localhost:8080/"
        },
        "id": "QYl5lB7Q-Fbq",
        "outputId": "ef475cd5-8a25-49cf-fce9-1e1926338f8f"
      },
      "execution_count": null,
      "outputs": [
        {
          "output_type": "stream",
          "name": "stdout",
          "text": [
            "Fitting 30 folds for each of 20 candidates, totalling 600 fits\n",
            "Best: 0.604048 using {'scale_pos_weight': 100, 'max_leaves': 60, 'max_depth': 5, 'learning_rate': 0.25, 'gamma': 0.1}\n"
          ]
        }
      ]
    },
    {
      "cell_type": "code",
      "source": [
        "# report all configurations\n",
        "score_xgb_normal = test_eval(xgb,X_test,y_test, sampling='actual',model_type = 'xgb')"
      ],
      "metadata": {
        "colab": {
          "base_uri": "https://localhost:8080/"
        },
        "id": "hiG6g3fo-o7j",
        "outputId": "9bb459a0-8216-4276-d9cb-609cda3d1128"
      },
      "execution_count": null,
      "outputs": [
        {
          "output_type": "stream",
          "name": "stdout",
          "text": [
            "Confusion Matrix\n",
            "============================================================\n",
            "[[216   9]\n",
            " [  5   5]] \n",
            "\n",
            "Classification Report\n",
            "============================================================\n",
            "              precision    recall  f1-score   support\n",
            "\n",
            "           0       0.98      0.96      0.97       225\n",
            "           1       0.36      0.50      0.42        10\n",
            "\n",
            "    accuracy                           0.94       235\n",
            "   macro avg       0.67      0.73      0.69       235\n",
            "weighted avg       0.95      0.94      0.95       235\n",
            " \n",
            "\n",
            "AUC-ROC\n",
            "============================================================\n",
            "0.8995555555555556\n"
          ]
        }
      ]
    },
    {
      "cell_type": "markdown",
      "source": [
        "### XGBoost with SMOTE"
      ],
      "metadata": {
        "id": "nCH1WBICNWJ8"
      }
    },
    {
      "cell_type": "code",
      "source": [
        "xgb.fit(X_train_sm, y_train_sm)\n",
        "print(\"Best: %f using %s\" % (xgb.best_score_, xgb.best_params_))"
      ],
      "metadata": {
        "colab": {
          "base_uri": "https://localhost:8080/"
        },
        "id": "2b1tclHiNadi",
        "outputId": "eb4691e0-548f-43cc-9db1-36aafed8639b"
      },
      "execution_count": null,
      "outputs": [
        {
          "output_type": "stream",
          "name": "stdout",
          "text": [
            "Fitting 30 folds for each of 20 candidates, totalling 600 fits\n",
            "Best: 0.986069 using {'scale_pos_weight': 1, 'max_leaves': 60, 'max_depth': 10, 'learning_rate': 0.2, 'gamma': 0.2}\n"
          ]
        }
      ]
    },
    {
      "cell_type": "code",
      "source": [
        "# report all configurations\n",
        "score_xgb_sm = test_eval(xgb,X_test,y_test, sampling='smote',model_type = 'xgb')"
      ],
      "metadata": {
        "colab": {
          "base_uri": "https://localhost:8080/"
        },
        "id": "TkAtVIQxNeCK",
        "outputId": "a75de5c7-4389-4a67-ffec-fffa5b8477ff"
      },
      "execution_count": null,
      "outputs": [
        {
          "output_type": "stream",
          "name": "stdout",
          "text": [
            "Confusion Matrix\n",
            "============================================================\n",
            "[[219   6]\n",
            " [  5   5]] \n",
            "\n",
            "Classification Report\n",
            "============================================================\n",
            "              precision    recall  f1-score   support\n",
            "\n",
            "           0       0.98      0.97      0.98       225\n",
            "           1       0.45      0.50      0.48        10\n",
            "\n",
            "    accuracy                           0.95       235\n",
            "   macro avg       0.72      0.74      0.73       235\n",
            "weighted avg       0.96      0.95      0.95       235\n",
            " \n",
            "\n",
            "AUC-ROC\n",
            "============================================================\n",
            "0.8973333333333333\n"
          ]
        }
      ]
    },
    {
      "cell_type": "markdown",
      "source": [
        "### XGBoost with ADASYN"
      ],
      "metadata": {
        "id": "kQEAz7nTPUus"
      }
    },
    {
      "cell_type": "code",
      "source": [
        "xgb.fit(X_train_ada, y_train_ada)\n",
        "print(\"Best: %f using %s\" % (xgb.best_score_, xgb.best_params_))"
      ],
      "metadata": {
        "colab": {
          "base_uri": "https://localhost:8080/"
        },
        "id": "iP7l4HJrPRx7",
        "outputId": "5d2b7fc7-5edc-44f1-fb1c-f7fbe51f4daf"
      },
      "execution_count": null,
      "outputs": [
        {
          "output_type": "stream",
          "name": "stdout",
          "text": [
            "Fitting 30 folds for each of 20 candidates, totalling 600 fits\n",
            "Best: 0.984584 using {'scale_pos_weight': 1, 'max_leaves': 60, 'max_depth': 10, 'learning_rate': 0.2, 'gamma': 0.2}\n"
          ]
        }
      ]
    },
    {
      "cell_type": "code",
      "source": [
        "# report all configurations\n",
        "score_xgb_ada = test_eval(xgb,X_test,y_test, sampling='ada',model_type = 'xgb')"
      ],
      "metadata": {
        "colab": {
          "base_uri": "https://localhost:8080/"
        },
        "id": "QGMekMmaPcaB",
        "outputId": "2e3a8ae6-8308-484d-962a-90e437b4dd29"
      },
      "execution_count": null,
      "outputs": [
        {
          "output_type": "stream",
          "name": "stdout",
          "text": [
            "Confusion Matrix\n",
            "============================================================\n",
            "[[220   5]\n",
            " [  5   5]] \n",
            "\n",
            "Classification Report\n",
            "============================================================\n",
            "              precision    recall  f1-score   support\n",
            "\n",
            "           0       0.98      0.98      0.98       225\n",
            "           1       0.50      0.50      0.50        10\n",
            "\n",
            "    accuracy                           0.96       235\n",
            "   macro avg       0.74      0.74      0.74       235\n",
            "weighted avg       0.96      0.96      0.96       235\n",
            " \n",
            "\n",
            "AUC-ROC\n",
            "============================================================\n",
            "0.8942222222222223\n"
          ]
        }
      ]
    },
    {
      "cell_type": "markdown",
      "source": [
        "### XGBoost with SMOTE+TOMEK"
      ],
      "metadata": {
        "id": "nlPHbq88J7_C"
      }
    },
    {
      "cell_type": "code",
      "source": [
        "xgb.fit(X_train_smt, y_train_smt)\n",
        "print(\"Best: %f using %s\" % (xgb.best_score_, xgb.best_params_))"
      ],
      "metadata": {
        "colab": {
          "base_uri": "https://localhost:8080/"
        },
        "id": "-0hkll69KIS9",
        "outputId": "342bd558-74fd-426b-a3ab-81a01bd1d771"
      },
      "execution_count": null,
      "outputs": [
        {
          "output_type": "stream",
          "name": "stdout",
          "text": [
            "Fitting 30 folds for each of 20 candidates, totalling 600 fits\n",
            "Best: 0.986069 using {'scale_pos_weight': 1, 'max_leaves': 60, 'max_depth': 10, 'learning_rate': 0.2, 'gamma': 0.2}\n"
          ]
        }
      ]
    },
    {
      "cell_type": "code",
      "source": [
        "# report all configurations\n",
        "score_xgb_smt = test_eval(xgb,X_test,y_test, sampling='smote_tomek',model_type = 'xgb')"
      ],
      "metadata": {
        "colab": {
          "base_uri": "https://localhost:8080/"
        },
        "id": "Em-wKsECKUyR",
        "outputId": "758416c0-7952-4fcd-ebf7-4c3ac567ffe7"
      },
      "execution_count": null,
      "outputs": [
        {
          "output_type": "stream",
          "name": "stdout",
          "text": [
            "Confusion Matrix\n",
            "============================================================\n",
            "[[219   6]\n",
            " [  5   5]] \n",
            "\n",
            "Classification Report\n",
            "============================================================\n",
            "              precision    recall  f1-score   support\n",
            "\n",
            "           0       0.98      0.97      0.98       225\n",
            "           1       0.45      0.50      0.48        10\n",
            "\n",
            "    accuracy                           0.95       235\n",
            "   macro avg       0.72      0.74      0.73       235\n",
            "weighted avg       0.96      0.95      0.95       235\n",
            " \n",
            "\n",
            "AUC-ROC\n",
            "============================================================\n",
            "0.8973333333333333\n"
          ]
        }
      ]
    },
    {
      "cell_type": "markdown",
      "source": [
        "### XGBoost with SMOTE+ENN"
      ],
      "metadata": {
        "id": "ERbxJ84ULP4H"
      }
    },
    {
      "cell_type": "code",
      "source": [
        "xgb.fit(X_train_sme, y_train_sme)\n",
        "print(\"Best: %f using %s\" % (xgb.best_score_, xgb.best_params_))"
      ],
      "metadata": {
        "colab": {
          "base_uri": "https://localhost:8080/"
        },
        "id": "y7Fq9rZCLOpR",
        "outputId": "b49dcddc-9b11-4a04-b581-0848e1b953c4"
      },
      "execution_count": null,
      "outputs": [
        {
          "output_type": "stream",
          "name": "stdout",
          "text": [
            "Fitting 30 folds for each of 20 candidates, totalling 600 fits\n",
            "Best: 0.992374 using {'scale_pos_weight': 1, 'max_leaves': 60, 'max_depth': 10, 'learning_rate': 0.2, 'gamma': 0.2}\n"
          ]
        }
      ]
    },
    {
      "cell_type": "code",
      "source": [
        "# report all configurations\n",
        "score_xgb_sme = test_eval(xgb,X_test,y_test, sampling='smote_enn',model_type = 'xgb')"
      ],
      "metadata": {
        "colab": {
          "base_uri": "https://localhost:8080/"
        },
        "id": "SR_XPufALYki",
        "outputId": "ea403b37-f234-4e40-c4be-c9d4a0bcb0b3"
      },
      "execution_count": null,
      "outputs": [
        {
          "output_type": "stream",
          "name": "stdout",
          "text": [
            "Confusion Matrix\n",
            "============================================================\n",
            "[[211  14]\n",
            " [  3   7]] \n",
            "\n",
            "Classification Report\n",
            "============================================================\n",
            "              precision    recall  f1-score   support\n",
            "\n",
            "           0       0.99      0.94      0.96       225\n",
            "           1       0.33      0.70      0.45        10\n",
            "\n",
            "    accuracy                           0.93       235\n",
            "   macro avg       0.66      0.82      0.71       235\n",
            "weighted avg       0.96      0.93      0.94       235\n",
            " \n",
            "\n",
            "AUC-ROC\n",
            "============================================================\n",
            "0.9404444444444444\n"
          ]
        }
      ]
    },
    {
      "cell_type": "markdown",
      "source": [
        "### XGBoost with RUS"
      ],
      "metadata": {
        "id": "lAcawCZ3MK6k"
      }
    },
    {
      "cell_type": "code",
      "source": [
        "xgb.fit(X_train_rus, y_train_rus)\n",
        "print(\"Best: %f using %s\" % (xgb.best_score_, xgb.best_params_))"
      ],
      "metadata": {
        "colab": {
          "base_uri": "https://localhost:8080/"
        },
        "id": "q45PDddhMPAs",
        "outputId": "f05a229d-ebcf-4f39-bf90-b6bdf0504c5d"
      },
      "execution_count": null,
      "outputs": [
        {
          "output_type": "stream",
          "name": "stdout",
          "text": [
            "Fitting 30 folds for each of 20 candidates, totalling 600 fits\n",
            "Best: 0.724745 using {'scale_pos_weight': 75, 'max_leaves': 10, 'max_depth': 1, 'learning_rate': 0.25, 'gamma': 0.2}\n"
          ]
        }
      ]
    },
    {
      "cell_type": "code",
      "source": [
        "# report all configurations\n",
        "score_xgb_rus = test_eval(xgb,X_test,y_test, sampling='rus',model_type = 'xgb')"
      ],
      "metadata": {
        "colab": {
          "base_uri": "https://localhost:8080/"
        },
        "id": "ChRB8g4gMSuq",
        "outputId": "2efb2df4-e903-4ff7-88b1-e089c5ef339d"
      },
      "execution_count": null,
      "outputs": [
        {
          "output_type": "stream",
          "name": "stdout",
          "text": [
            "Confusion Matrix\n",
            "============================================================\n",
            "[[170  55]\n",
            " [  2   8]] \n",
            "\n",
            "Classification Report\n",
            "============================================================\n",
            "              precision    recall  f1-score   support\n",
            "\n",
            "           0       0.99      0.76      0.86       225\n",
            "           1       0.13      0.80      0.22        10\n",
            "\n",
            "    accuracy                           0.76       235\n",
            "   macro avg       0.56      0.78      0.54       235\n",
            "weighted avg       0.95      0.76      0.83       235\n",
            " \n",
            "\n",
            "AUC-ROC\n",
            "============================================================\n",
            "0.8737777777777778\n"
          ]
        }
      ]
    },
    {
      "cell_type": "markdown",
      "source": [
        "### XGboost with Hybdrid"
      ],
      "metadata": {
        "id": "S4hOb5HXNEgu"
      }
    },
    {
      "cell_type": "code",
      "source": [
        "xgb.fit(X_train_hybrid, y_train_hybrid)\n",
        "print(\"Best: %f using %s\" % (xgb.best_score_, xgb.best_params_))"
      ],
      "metadata": {
        "colab": {
          "base_uri": "https://localhost:8080/"
        },
        "id": "To614BuDNAFI",
        "outputId": "49c1aca0-c1b7-4b48-9100-62ff0330b047"
      },
      "execution_count": null,
      "outputs": [
        {
          "output_type": "stream",
          "name": "stdout",
          "text": [
            "Fitting 30 folds for each of 20 candidates, totalling 600 fits\n",
            "Best: 0.899563 using {'scale_pos_weight': 1, 'max_leaves': 60, 'max_depth': 10, 'learning_rate': 0.2, 'gamma': 0.2}\n"
          ]
        }
      ]
    },
    {
      "cell_type": "code",
      "source": [
        "# report all configurations\n",
        "score_xgb_hybrid = test_eval(xgb,X_test,y_test, sampling='smote_hybdrid',model_type = 'xgb')"
      ],
      "metadata": {
        "colab": {
          "base_uri": "https://localhost:8080/"
        },
        "id": "qZ4VLAkiNO0d",
        "outputId": "d35c617c-ea4f-4a39-d0ed-0ad4f9d7ee5b"
      },
      "execution_count": null,
      "outputs": [
        {
          "output_type": "stream",
          "name": "stdout",
          "text": [
            "Confusion Matrix\n",
            "============================================================\n",
            "[[205  20]\n",
            " [  3   7]] \n",
            "\n",
            "Classification Report\n",
            "============================================================\n",
            "              precision    recall  f1-score   support\n",
            "\n",
            "           0       0.99      0.91      0.95       225\n",
            "           1       0.26      0.70      0.38        10\n",
            "\n",
            "    accuracy                           0.90       235\n",
            "   macro avg       0.62      0.81      0.66       235\n",
            "weighted avg       0.95      0.90      0.92       235\n",
            " \n",
            "\n",
            "AUC-ROC\n",
            "============================================================\n",
            "0.9364444444444443\n"
          ]
        }
      ]
    },
    {
      "cell_type": "markdown",
      "source": [
        "### XGBoost Score"
      ],
      "metadata": {
        "id": "6hqZ9bePNsty"
      }
    },
    {
      "cell_type": "markdown",
      "source": [],
      "metadata": {
        "id": "5Fq491KfXMF2"
      }
    },
    {
      "cell_type": "code",
      "source": [
        "score_xgb = [score_xgb_normal, score_xgb_sm,score_xgb_ada, score_xgb_smt, score_xgb_sme,\n",
        "            score_xgb_rus, score_xgb_hybrid]"
      ],
      "metadata": {
        "id": "R852DuosNrQr"
      },
      "execution_count": null,
      "outputs": []
    },
    {
      "cell_type": "code",
      "source": [
        "score2= pd.DataFrame(score_xgb)\n",
        "score2"
      ],
      "metadata": {
        "colab": {
          "base_uri": "https://localhost:8080/",
          "height": 269
        },
        "id": "BfSWBDgBN8VN",
        "outputId": "9f67f876-84c4-4a10-bc73-1fc1a60e111e"
      },
      "execution_count": null,
      "outputs": [
        {
          "output_type": "execute_result",
          "data": {
            "text/plain": [
              "  model       resample  precision  recall  f1-score   AUC-ROC\n",
              "0   xgb         actual   0.357143     0.5  0.416667  0.899556\n",
              "1   xgb          smote   0.454545     0.5  0.476190  0.897333\n",
              "2   xgb            ada   0.500000     0.5  0.500000  0.894222\n",
              "3   xgb    smote_tomek   0.454545     0.5  0.476190  0.897333\n",
              "4   xgb      smote_enn   0.333333     0.7  0.451613  0.940444\n",
              "5   xgb      smote_rus   0.126984     0.8  0.219178  0.873778\n",
              "6   xgb  smote_hybdrid   0.259259     0.7  0.378378  0.936444"
            ],
            "text/html": [
              "\n",
              "  <div id=\"df-ca09f166-9b44-48da-830f-52ce9695002f\">\n",
              "    <div class=\"colab-df-container\">\n",
              "      <div>\n",
              "<style scoped>\n",
              "    .dataframe tbody tr th:only-of-type {\n",
              "        vertical-align: middle;\n",
              "    }\n",
              "\n",
              "    .dataframe tbody tr th {\n",
              "        vertical-align: top;\n",
              "    }\n",
              "\n",
              "    .dataframe thead th {\n",
              "        text-align: right;\n",
              "    }\n",
              "</style>\n",
              "<table border=\"1\" class=\"dataframe\">\n",
              "  <thead>\n",
              "    <tr style=\"text-align: right;\">\n",
              "      <th></th>\n",
              "      <th>model</th>\n",
              "      <th>resample</th>\n",
              "      <th>precision</th>\n",
              "      <th>recall</th>\n",
              "      <th>f1-score</th>\n",
              "      <th>AUC-ROC</th>\n",
              "    </tr>\n",
              "  </thead>\n",
              "  <tbody>\n",
              "    <tr>\n",
              "      <th>0</th>\n",
              "      <td>xgb</td>\n",
              "      <td>actual</td>\n",
              "      <td>0.357143</td>\n",
              "      <td>0.5</td>\n",
              "      <td>0.416667</td>\n",
              "      <td>0.899556</td>\n",
              "    </tr>\n",
              "    <tr>\n",
              "      <th>1</th>\n",
              "      <td>xgb</td>\n",
              "      <td>smote</td>\n",
              "      <td>0.454545</td>\n",
              "      <td>0.5</td>\n",
              "      <td>0.476190</td>\n",
              "      <td>0.897333</td>\n",
              "    </tr>\n",
              "    <tr>\n",
              "      <th>2</th>\n",
              "      <td>xgb</td>\n",
              "      <td>ada</td>\n",
              "      <td>0.500000</td>\n",
              "      <td>0.5</td>\n",
              "      <td>0.500000</td>\n",
              "      <td>0.894222</td>\n",
              "    </tr>\n",
              "    <tr>\n",
              "      <th>3</th>\n",
              "      <td>xgb</td>\n",
              "      <td>smote_tomek</td>\n",
              "      <td>0.454545</td>\n",
              "      <td>0.5</td>\n",
              "      <td>0.476190</td>\n",
              "      <td>0.897333</td>\n",
              "    </tr>\n",
              "    <tr>\n",
              "      <th>4</th>\n",
              "      <td>xgb</td>\n",
              "      <td>smote_enn</td>\n",
              "      <td>0.333333</td>\n",
              "      <td>0.7</td>\n",
              "      <td>0.451613</td>\n",
              "      <td>0.940444</td>\n",
              "    </tr>\n",
              "    <tr>\n",
              "      <th>5</th>\n",
              "      <td>xgb</td>\n",
              "      <td>smote_rus</td>\n",
              "      <td>0.126984</td>\n",
              "      <td>0.8</td>\n",
              "      <td>0.219178</td>\n",
              "      <td>0.873778</td>\n",
              "    </tr>\n",
              "    <tr>\n",
              "      <th>6</th>\n",
              "      <td>xgb</td>\n",
              "      <td>smote_hybdrid</td>\n",
              "      <td>0.259259</td>\n",
              "      <td>0.7</td>\n",
              "      <td>0.378378</td>\n",
              "      <td>0.936444</td>\n",
              "    </tr>\n",
              "  </tbody>\n",
              "</table>\n",
              "</div>\n",
              "      <button class=\"colab-df-convert\" onclick=\"convertToInteractive('df-ca09f166-9b44-48da-830f-52ce9695002f')\"\n",
              "              title=\"Convert this dataframe to an interactive table.\"\n",
              "              style=\"display:none;\">\n",
              "        \n",
              "  <svg xmlns=\"http://www.w3.org/2000/svg\" height=\"24px\"viewBox=\"0 0 24 24\"\n",
              "       width=\"24px\">\n",
              "    <path d=\"M0 0h24v24H0V0z\" fill=\"none\"/>\n",
              "    <path d=\"M18.56 5.44l.94 2.06.94-2.06 2.06-.94-2.06-.94-.94-2.06-.94 2.06-2.06.94zm-11 1L8.5 8.5l.94-2.06 2.06-.94-2.06-.94L8.5 2.5l-.94 2.06-2.06.94zm10 10l.94 2.06.94-2.06 2.06-.94-2.06-.94-.94-2.06-.94 2.06-2.06.94z\"/><path d=\"M17.41 7.96l-1.37-1.37c-.4-.4-.92-.59-1.43-.59-.52 0-1.04.2-1.43.59L10.3 9.45l-7.72 7.72c-.78.78-.78 2.05 0 2.83L4 21.41c.39.39.9.59 1.41.59.51 0 1.02-.2 1.41-.59l7.78-7.78 2.81-2.81c.8-.78.8-2.07 0-2.86zM5.41 20L4 18.59l7.72-7.72 1.47 1.35L5.41 20z\"/>\n",
              "  </svg>\n",
              "      </button>\n",
              "      \n",
              "  <style>\n",
              "    .colab-df-container {\n",
              "      display:flex;\n",
              "      flex-wrap:wrap;\n",
              "      gap: 12px;\n",
              "    }\n",
              "\n",
              "    .colab-df-convert {\n",
              "      background-color: #E8F0FE;\n",
              "      border: none;\n",
              "      border-radius: 50%;\n",
              "      cursor: pointer;\n",
              "      display: none;\n",
              "      fill: #1967D2;\n",
              "      height: 32px;\n",
              "      padding: 0 0 0 0;\n",
              "      width: 32px;\n",
              "    }\n",
              "\n",
              "    .colab-df-convert:hover {\n",
              "      background-color: #E2EBFA;\n",
              "      box-shadow: 0px 1px 2px rgba(60, 64, 67, 0.3), 0px 1px 3px 1px rgba(60, 64, 67, 0.15);\n",
              "      fill: #174EA6;\n",
              "    }\n",
              "\n",
              "    [theme=dark] .colab-df-convert {\n",
              "      background-color: #3B4455;\n",
              "      fill: #D2E3FC;\n",
              "    }\n",
              "\n",
              "    [theme=dark] .colab-df-convert:hover {\n",
              "      background-color: #434B5C;\n",
              "      box-shadow: 0px 1px 3px 1px rgba(0, 0, 0, 0.15);\n",
              "      filter: drop-shadow(0px 1px 2px rgba(0, 0, 0, 0.3));\n",
              "      fill: #FFFFFF;\n",
              "    }\n",
              "  </style>\n",
              "\n",
              "      <script>\n",
              "        const buttonEl =\n",
              "          document.querySelector('#df-ca09f166-9b44-48da-830f-52ce9695002f button.colab-df-convert');\n",
              "        buttonEl.style.display =\n",
              "          google.colab.kernel.accessAllowed ? 'block' : 'none';\n",
              "\n",
              "        async function convertToInteractive(key) {\n",
              "          const element = document.querySelector('#df-ca09f166-9b44-48da-830f-52ce9695002f');\n",
              "          const dataTable =\n",
              "            await google.colab.kernel.invokeFunction('convertToInteractive',\n",
              "                                                     [key], {});\n",
              "          if (!dataTable) return;\n",
              "\n",
              "          const docLinkHtml = 'Like what you see? Visit the ' +\n",
              "            '<a target=\"_blank\" href=https://colab.research.google.com/notebooks/data_table.ipynb>data table notebook</a>'\n",
              "            + ' to learn more about interactive tables.';\n",
              "          element.innerHTML = '';\n",
              "          dataTable['output_type'] = 'display_data';\n",
              "          await google.colab.output.renderOutput(dataTable, element);\n",
              "          const docLink = document.createElement('div');\n",
              "          docLink.innerHTML = docLinkHtml;\n",
              "          element.appendChild(docLink);\n",
              "        }\n",
              "      </script>\n",
              "    </div>\n",
              "  </div>\n",
              "  "
            ]
          },
          "metadata": {},
          "execution_count": 308
        }
      ]
    },
    {
      "cell_type": "markdown",
      "source": [
        "# PCA and SMOTE+TOMEK\n"
      ],
      "metadata": {
        "id": "XNQqB-CSXOWJ"
      }
    },
    {
      "cell_type": "code",
      "source": [
        "from sklearn.decomposition import PCA"
      ],
      "metadata": {
        "id": "OtD9D2o9Xj0Q"
      },
      "execution_count": null,
      "outputs": []
    },
    {
      "cell_type": "code",
      "source": [
        "# Create a pca object with the 2 components as a parameter\n",
        "pca = PCA(n_components=X_train.shape[-1])\n",
        "\n",
        "# Fit the PCA and transform the data\n",
        "pca.fit(X_train)\n",
        "\n",
        "sns.set(style='whitegrid')\n",
        "plt.plot(np.cumsum(pca.explained_variance_ratio_))\n",
        "plt.xlabel('number of components')\n",
        "plt.ylabel('cumulative explained variance')\n",
        "plt.axvline(linewidth=4, color='b', linestyle = '--', x=15, ymin=0, ymax=1)\n",
        "display(plt.show())\n",
        "evr = pca.explained_variance_ratio_\n",
        "cvr = np.cumsum(pca.explained_variance_ratio_)\n",
        "pca_df = pd.DataFrame()\n",
        "pca_df['Cumulative Variance Ratio'] = cvr\n",
        "pca_df['Explained Variance Ratio'] = evr\n",
        "display(pca_df.head(15))"
      ],
      "metadata": {
        "colab": {
          "base_uri": "https://localhost:8080/",
          "height": 805
        },
        "id": "q7ndv-HLXRWO",
        "outputId": "49f33038-cefb-4ad1-e734-4a67daa5bfbb"
      },
      "execution_count": null,
      "outputs": [
        {
          "output_type": "display_data",
          "data": {
            "text/plain": [
              "<Figure size 432x288 with 1 Axes>"
            ],
            "image/png": "[encoded data removed]"
          },
          "metadata": {}
        },
        {
          "output_type": "display_data",
          "data": {
            "text/plain": [
              "None"
            ]
          },
          "metadata": {}
        },
        {
          "output_type": "display_data",
          "data": {
            "text/plain": [
              "    Cumulative Variance Ratio  Explained Variance Ratio\n",
              "0                    0.294445                  0.294445\n",
              "1                    0.522692                  0.228247\n",
              "2                    0.618403                  0.095711\n",
              "3                    0.691964                  0.073560\n",
              "4                    0.740271                  0.048308\n",
              "5                    0.779688                  0.039417\n",
              "6                    0.816997                  0.037309\n",
              "7                    0.851209                  0.034213\n",
              "8                    0.876157                  0.024947\n",
              "9                    0.896831                  0.020674\n",
              "10                   0.916826                  0.019996\n",
              "11                   0.936534                  0.019708\n",
              "12                   0.951604                  0.015069\n",
              "13                   0.964981                  0.013377\n",
              "14                   0.975756                  0.010775"
            ],
            "text/html": [
              "\n",
              "  <div id=\"df-16f9a21a-68da-48aa-8b48-7627c60f5685\">\n",
              "    <div class=\"colab-df-container\">\n",
              "      <div>\n",
              "<style scoped>\n",
              "    .dataframe tbody tr th:only-of-type {\n",
              "        vertical-align: middle;\n",
              "    }\n",
              "\n",
              "    .dataframe tbody tr th {\n",
              "        vertical-align: top;\n",
              "    }\n",
              "\n",
              "    .dataframe thead th {\n",
              "        text-align: right;\n",
              "    }\n",
              "</style>\n",
              "<table border=\"1\" class=\"dataframe\">\n",
              "  <thead>\n",
              "    <tr style=\"text-align: right;\">\n",
              "      <th></th>\n",
              "      <th>Cumulative Variance Ratio</th>\n",
              "      <th>Explained Variance Ratio</th>\n",
              "    </tr>\n",
              "  </thead>\n",
              "  <tbody>\n",
              "    <tr>\n",
              "      <th>0</th>\n",
              "      <td>0.294445</td>\n",
              "      <td>0.294445</td>\n",
              "    </tr>\n",
              "    <tr>\n",
              "      <th>1</th>\n",
              "      <td>0.522692</td>\n",
              "      <td>0.228247</td>\n",
              "    </tr>\n",
              "    <tr>\n",
              "      <th>2</th>\n",
              "      <td>0.618403</td>\n",
              "      <td>0.095711</td>\n",
              "    </tr>\n",
              "    <tr>\n",
              "      <th>3</th>\n",
              "      <td>0.691964</td>\n",
              "      <td>0.073560</td>\n",
              "    </tr>\n",
              "    <tr>\n",
              "      <th>4</th>\n",
              "      <td>0.740271</td>\n",
              "      <td>0.048308</td>\n",
              "    </tr>\n",
              "    <tr>\n",
              "      <th>5</th>\n",
              "      <td>0.779688</td>\n",
              "      <td>0.039417</td>\n",
              "    </tr>\n",
              "    <tr>\n",
              "      <th>6</th>\n",
              "      <td>0.816997</td>\n",
              "      <td>0.037309</td>\n",
              "    </tr>\n",
              "    <tr>\n",
              "      <th>7</th>\n",
              "      <td>0.851209</td>\n",
              "      <td>0.034213</td>\n",
              "    </tr>\n",
              "    <tr>\n",
              "      <th>8</th>\n",
              "      <td>0.876157</td>\n",
              "      <td>0.024947</td>\n",
              "    </tr>\n",
              "    <tr>\n",
              "      <th>9</th>\n",
              "      <td>0.896831</td>\n",
              "      <td>0.020674</td>\n",
              "    </tr>\n",
              "    <tr>\n",
              "      <th>10</th>\n",
              "      <td>0.916826</td>\n",
              "      <td>0.019996</td>\n",
              "    </tr>\n",
              "    <tr>\n",
              "      <th>11</th>\n",
              "      <td>0.936534</td>\n",
              "      <td>0.019708</td>\n",
              "    </tr>\n",
              "    <tr>\n",
              "      <th>12</th>\n",
              "      <td>0.951604</td>\n",
              "      <td>0.015069</td>\n",
              "    </tr>\n",
              "    <tr>\n",
              "      <th>13</th>\n",
              "      <td>0.964981</td>\n",
              "      <td>0.013377</td>\n",
              "    </tr>\n",
              "    <tr>\n",
              "      <th>14</th>\n",
              "      <td>0.975756</td>\n",
              "      <td>0.010775</td>\n",
              "    </tr>\n",
              "  </tbody>\n",
              "</table>\n",
              "</div>\n",
              "      <button class=\"colab-df-convert\" onclick=\"convertToInteractive('df-16f9a21a-68da-48aa-8b48-7627c60f5685')\"\n",
              "              title=\"Convert this dataframe to an interactive table.\"\n",
              "              style=\"display:none;\">\n",
              "        \n",
              "  <svg xmlns=\"http://www.w3.org/2000/svg\" height=\"24px\"viewBox=\"0 0 24 24\"\n",
              "       width=\"24px\">\n",
              "    <path d=\"M0 0h24v24H0V0z\" fill=\"none\"/>\n",
              "    <path d=\"M18.56 5.44l.94 2.06.94-2.06 2.06-.94-2.06-.94-.94-2.06-.94 2.06-2.06.94zm-11 1L8.5 8.5l.94-2.06 2.06-.94-2.06-.94L8.5 2.5l-.94 2.06-2.06.94zm10 10l.94 2.06.94-2.06 2.06-.94-2.06-.94-.94-2.06-.94 2.06-2.06.94z\"/><path d=\"M17.41 7.96l-1.37-1.37c-.4-.4-.92-.59-1.43-.59-.52 0-1.04.2-1.43.59L10.3 9.45l-7.72 7.72c-.78.78-.78 2.05 0 2.83L4 21.41c.39.39.9.59 1.41.59.51 0 1.02-.2 1.41-.59l7.78-7.78 2.81-2.81c.8-.78.8-2.07 0-2.86zM5.41 20L4 18.59l7.72-7.72 1.47 1.35L5.41 20z\"/>\n",
              "  </svg>\n",
              "      </button>\n",
              "      \n",
              "  <style>\n",
              "    .colab-df-container {\n",
              "      display:flex;\n",
              "      flex-wrap:wrap;\n",
              "      gap: 12px;\n",
              "    }\n",
              "\n",
              "    .colab-df-convert {\n",
              "      background-color: #E8F0FE;\n",
              "      border: none;\n",
              "      border-radius: 50%;\n",
              "      cursor: pointer;\n",
              "      display: none;\n",
              "      fill: #1967D2;\n",
              "      height: 32px;\n",
              "      padding: 0 0 0 0;\n",
              "      width: 32px;\n",
              "    }\n",
              "\n",
              "    .colab-df-convert:hover {\n",
              "      background-color: #E2EBFA;\n",
              "      box-shadow: 0px 1px 2px rgba(60, 64, 67, 0.3), 0px 1px 3px 1px rgba(60, 64, 67, 0.15);\n",
              "      fill: #174EA6;\n",
              "    }\n",
              "\n",
              "    [theme=dark] .colab-df-convert {\n",
              "      background-color: #3B4455;\n",
              "      fill: #D2E3FC;\n",
              "    }\n",
              "\n",
              "    [theme=dark] .colab-df-convert:hover {\n",
              "      background-color: #434B5C;\n",
              "      box-shadow: 0px 1px 3px 1px rgba(0, 0, 0, 0.15);\n",
              "      filter: drop-shadow(0px 1px 2px rgba(0, 0, 0, 0.3));\n",
              "      fill: #FFFFFF;\n",
              "    }\n",
              "  </style>\n",
              "\n",
              "      <script>\n",
              "        const buttonEl =\n",
              "          document.querySelector('#df-16f9a21a-68da-48aa-8b48-7627c60f5685 button.colab-df-convert');\n",
              "        buttonEl.style.display =\n",
              "          google.colab.kernel.accessAllowed ? 'block' : 'none';\n",
              "\n",
              "        async function convertToInteractive(key) {\n",
              "          const element = document.querySelector('#df-16f9a21a-68da-48aa-8b48-7627c60f5685');\n",
              "          const dataTable =\n",
              "            await google.colab.kernel.invokeFunction('convertToInteractive',\n",
              "                                                     [key], {});\n",
              "          if (!dataTable) return;\n",
              "\n",
              "          const docLinkHtml = 'Like what you see? Visit the ' +\n",
              "            '<a target=\"_blank\" href=https://colab.research.google.com/notebooks/data_table.ipynb>data table notebook</a>'\n",
              "            + ' to learn more about interactive tables.';\n",
              "          element.innerHTML = '';\n",
              "          dataTable['output_type'] = 'display_data';\n",
              "          await google.colab.output.renderOutput(dataTable, element);\n",
              "          const docLink = document.createElement('div');\n",
              "          docLink.innerHTML = docLinkHtml;\n",
              "          element.appendChild(docLink);\n",
              "        }\n",
              "      </script>\n",
              "    </div>\n",
              "  </div>\n",
              "  "
            ]
          },
          "metadata": {}
        }
      ]
    },
    {
      "cell_type": "code",
      "source": [
        "pca = PCA(n_components=15)\n",
        "pca.fit(X_train)\n",
        "X_train_pca = pca.transform(X_train)\n",
        "X_test_pca = pca.transform(X_test)"
      ],
      "metadata": {
        "id": "OdC1HBGEZCAe"
      },
      "execution_count": null,
      "outputs": []
    },
    {
      "cell_type": "code",
      "source": [
        "features_names = np.append(selected_features,['f_46'])\n",
        "print(pd.DataFrame(pca.components_,index=features_names))\n"
      ],
      "metadata": {
        "colab": {
          "base_uri": "https://localhost:8080/"
        },
        "id": "-QsFWk-heMwg",
        "outputId": "53555b72-6c27-4572-cadd-775cc4de571e"
      },
      "execution_count": null,
      "outputs": [
        {
          "output_type": "stream",
          "name": "stdout",
          "text": [
            "            0         1         2         3         4         5         6   \\\n",
            "f_1  -0.143467  0.143413 -0.001830  0.280449  0.319202  0.195989  0.125615   \n",
            "f_4   0.068271 -0.170837 -0.084939  0.167905  0.165349  0.188413 -0.282384   \n",
            "f_5  -0.335934 -0.290138  0.034181  0.123384  0.055356  0.253419  0.090329   \n",
            "f_6   0.067934 -0.219213 -0.176261 -0.054576 -0.028685 -0.055775  0.397622   \n",
            "f_9  -0.264990  0.016403 -0.171527 -0.103004  0.025351 -0.260202 -0.114628   \n",
            "f_11  0.218951 -0.259691  0.731471 -0.017492  0.069277 -0.194616  0.013764   \n",
            "f_13  0.171591 -0.223703 -0.369791  0.016420 -0.032635  0.121349  0.046324   \n",
            "f_14  0.411138 -0.024606 -0.362948  0.250327  0.149404 -0.018711  0.045776   \n",
            "f_16 -0.001471 -0.192078  0.113163  0.153724  0.039799  0.108727  0.065975   \n",
            "f_20  0.046401  0.007535 -0.096422 -0.079258 -0.116647 -0.101454  0.076627   \n",
            "f_22  0.447079  0.326005  0.264051  0.182980 -0.025550  0.154587  0.035007   \n",
            "f_24  0.109630  0.020333 -0.066350 -0.098269  0.075301 -0.416989  0.094170   \n",
            "f_26  0.226115  0.316526 -0.087763 -0.159717  0.005366 -0.065925 -0.057431   \n",
            "f_27 -0.427990  0.561867  0.069785  0.117446  0.048370  0.026477  0.160948   \n",
            "f_28 -0.102678 -0.164123 -0.071315 -0.056916  0.030517 -0.360162 -0.085267   \n",
            "f_30 -0.040057 -0.153783 -0.008328  0.250027  0.006609 -0.111393  0.046477   \n",
            "f_31  0.273773  0.232121 -0.106855 -0.097708  0.021888  0.022291  0.051327   \n",
            "f_35 -0.027443  0.062028 -0.026427  0.625809  0.076828 -0.549203 -0.060634   \n",
            "f_36  0.021456 -0.047529  0.036709 -0.008860  0.086742 -0.026567  0.748280   \n",
            "f_38 -0.012199  0.162087 -0.004982  0.034025  0.029745 -0.018931  0.022426   \n",
            "f_40 -0.046548  0.053569  0.010135 -0.333819 -0.206843 -0.240863  0.063252   \n",
            "f_41 -0.012887  0.008326 -0.003011  0.094111 -0.102590 -0.054001  0.021757   \n",
            "f_42  0.037428  0.009222  0.002179 -0.022003  0.100977 -0.039329 -0.064936   \n",
            "f_43  0.000500  0.015126 -0.005837  0.123068 -0.277290  0.001388  0.288290   \n",
            "f_47 -0.003768 -0.004441 -0.000247  0.290103 -0.807511  0.073243 -0.053169   \n",
            "f_46  0.009288  0.003495  0.001126  0.022271 -0.077058 -0.002525 -0.018153   \n",
            "\n",
            "            7         8         9   ...        16        17        18  \\\n",
            "f_1   0.220185  0.243804  0.042220  ... -0.042917  0.322911  0.322594   \n",
            "f_4  -0.195183 -0.105529 -0.232103  ...  0.222616  0.114978  0.117397   \n",
            "f_5  -0.042449 -0.144427  0.210818  ...  0.090858  0.015521  0.012886   \n",
            "f_6   0.392023  0.309579  0.421971  ...  0.265568 -0.054690 -0.056804   \n",
            "f_9  -0.149185 -0.132219 -0.135428  ...  0.259206  0.037902  0.031112   \n",
            "f_11 -0.072066 -0.110195  0.111771  ... -0.041114  0.085618  0.091508   \n",
            "f_13 -0.004922 -0.029338 -0.037466  ...  0.104906 -0.036225 -0.040167   \n",
            "f_14 -0.180472 -0.288490  0.138167  ... -0.217398  0.257068  0.254749   \n",
            "f_16  0.062340  0.049672  0.097362  ... -0.531610  0.046338  0.044280   \n",
            "f_20 -0.131717 -0.267657  0.223377  ... -0.277191 -0.238961 -0.228660   \n",
            "f_22  0.049737  0.047496  0.002492  ...  0.421878 -0.030890 -0.028184   \n",
            "f_24 -0.112701 -0.231113  0.360986  ...  0.162654  0.076399  0.084712   \n",
            "f_26  0.133451  0.226357 -0.093373  ... -0.404819 -0.036221 -0.026832   \n",
            "f_27 -0.081870 -0.209999  0.251244  ... -0.026099  0.044514  0.032032   \n",
            "f_28  0.142652  0.270612 -0.198230  ... -0.059880  0.077033  0.079261   \n",
            "f_30 -0.024977 -0.049854  0.092793  ... -0.054119 -0.002920 -0.002504   \n",
            "f_31  0.019762 -0.027789  0.078172  ...  0.072247  0.001509  0.018402   \n",
            "f_35  0.091267  0.093023 -0.098547  ...  0.031154 -0.135773 -0.132243   \n",
            "f_36  0.042426 -0.280729 -0.560557  ... -0.010902 -0.017219 -0.051005   \n",
            "f_38  0.068160 -0.027745 -0.135613  ... -0.028087 -0.091169 -0.082053   \n",
            "f_40  0.034453 -0.003431 -0.059983  ...  0.018760  0.424443  0.438984   \n",
            "f_41  0.026461 -0.028301 -0.019938  ...  0.013000  0.036655  0.084988   \n",
            "f_42  0.005376  0.029121 -0.071343  ... -0.003217 -0.007404 -0.037659   \n",
            "f_43 -0.731594  0.521443  0.018514  ... -0.002802  0.021871  0.033523   \n",
            "f_47  0.251901 -0.188650 -0.055876  ... -0.008674  0.053533  0.166503   \n",
            "f_46  0.015242 -0.005215  0.009218  ... -0.002579  0.718260 -0.689419   \n",
            "\n",
            "            19        20        21        22        23        24        25  \n",
            "f_1   0.291487  0.104033  0.229777  0.253606  0.246008  0.066709 -0.051163  \n",
            "f_4   0.078652 -0.295553  0.200572  0.222678  0.217584 -0.118231  0.013524  \n",
            "f_5  -0.103136  0.237120  0.052237  0.000359  0.030836  0.041919  0.161370  \n",
            "f_6   0.024311 -0.265011  0.096049 -0.038030 -0.055372 -0.169370  0.214395  \n",
            "f_9   0.251636 -0.010092  0.200571 -0.117511 -0.144389  0.296551  0.642351  \n",
            "f_11  0.207429 -0.047669  0.054828  0.001470 -0.027266  0.110050  0.051541  \n",
            "f_13 -0.109953 -0.025127 -0.065615  0.057555  0.067965  0.698060 -0.264435  \n",
            "f_14 -0.003097 -0.112480 -0.228467 -0.200951 -0.126658 -0.266960  0.205639  \n",
            "f_16 -0.139311 -0.026433 -0.081327 -0.069616 -0.018920  0.396981  0.253894  \n",
            "f_20 -0.101427 -0.007407  0.190913  0.472093  0.502338 -0.103739  0.231890  \n",
            "f_22 -0.260819 -0.067338 -0.166310  0.059174  0.172449  0.201956  0.308291  \n",
            "f_24  0.320653 -0.066177 -0.014211  0.080227  0.064147  0.195232 -0.359623  \n",
            "f_26  0.197111 -0.168101  0.302428 -0.004895 -0.114875  0.164127  0.094884  \n",
            "f_27 -0.049413 -0.168426 -0.273312 -0.047164  0.016412  0.123414 -0.022380  \n",
            "f_28  0.112963  0.078855 -0.641992  0.167165  0.327442 -0.018585  0.163621  \n",
            "f_30 -0.134150  0.151687  0.182141 -0.094901 -0.067832 -0.003112 -0.034119  \n",
            "f_31  0.131640  0.724580  0.054383  0.026452 -0.003629 -0.007042  0.087096  \n",
            "f_35 -0.234563  0.080425  0.197070 -0.069392  0.011190  0.005265 -0.084262  \n",
            "f_36  0.070938  0.014560  0.009058  0.000807  0.013745 -0.030902 -0.011704  \n",
            "f_38  0.040389 -0.288494  0.058061 -0.009841  0.066367  0.002338 -0.027461  \n",
            "f_40 -0.560382 -0.009056  0.237859 -0.008415  0.133176  0.014771 -0.022440  \n",
            "f_41 -0.090443 -0.019087 -0.102192  0.734148 -0.633953  0.005901  0.039198  \n",
            "f_42 -0.048115  0.220009  0.009085  0.040634 -0.016875 -0.037503 -0.001207  \n",
            "f_43  0.082073  0.003151  0.020785  0.009051  0.024146 -0.004850 -0.002545  \n",
            "f_47  0.309686  0.019992  0.007552 -0.056938  0.093504 -0.004078 -0.006140  \n",
            "f_46  0.020162  0.002366  0.005300  0.025703 -0.007296 -0.000876 -0.000633  \n",
            "\n",
            "[26 rows x 26 columns]\n"
          ]
        }
      ]
    },
    {
      "cell_type": "code",
      "source": [
        "X_train_pca.shape"
      ],
      "metadata": {
        "colab": {
          "base_uri": "https://localhost:8080/"
        },
        "id": "9ojvMMM-ZmNp",
        "outputId": "f865bf62-071c-40bf-a7fd-4aab44805e31"
      },
      "execution_count": null,
      "outputs": [
        {
          "output_type": "execute_result",
          "data": {
            "text/plain": [
              "(702, 15)"
            ]
          },
          "metadata": {},
          "execution_count": 338
        }
      ]
    },
    {
      "cell_type": "code",
      "source": [
        "smt = SMOTETomek(random_state=100)\n",
        "X_train_pca_smt, y_train_pca_smt = smt.fit_resample(X_train_pca, y_train)\n",
        "print('Resampled dataset shape %s' % Counter(y_train_pca_smt))"
      ],
      "metadata": {
        "colab": {
          "base_uri": "https://localhost:8080/"
        },
        "id": "jkT7NZoVZ_4R",
        "outputId": "f5e5d7e3-1022-4873-f32c-449800d5284b"
      },
      "execution_count": null,
      "outputs": [
        {
          "output_type": "stream",
          "name": "stdout",
          "text": [
            "Resampled dataset shape Counter({0: 671, 1: 671})\n"
          ]
        }
      ]
    },
    {
      "cell_type": "code",
      "source": [
        "#SMOTE_TOMEK\n",
        "clf_RF.fit(X_train_pca, y_train)\n",
        "clf_RF.best_estimator_"
      ],
      "metadata": {
        "colab": {
          "base_uri": "https://localhost:8080/"
        },
        "id": "VEzZjPIGaQGI",
        "outputId": "c7874ae1-d32d-4efc-cde2-b9aa5a52433b"
      },
      "execution_count": null,
      "outputs": [
        {
          "output_type": "stream",
          "name": "stdout",
          "text": [
            "Fitting 5 folds for each of 20 candidates, totalling 100 fits\n"
          ]
        },
        {
          "output_type": "execute_result",
          "data": {
            "text/plain": [
              "RandomForestClassifier(max_depth=15, min_samples_split=10, n_estimators=120)"
            ]
          },
          "metadata": {},
          "execution_count": 345
        }
      ]
    },
    {
      "cell_type": "code",
      "source": [
        "score_rf_pca_smt = test_eval(clf_RF,X_test_pca,y_test,sampling = 'pca_smote_tomek',model_type = 'rf')\n"
      ],
      "metadata": {
        "colab": {
          "base_uri": "https://localhost:8080/"
        },
        "id": "Fpijs52WaWrh",
        "outputId": "70a0d17c-ed4d-40f1-9e06-7bbedf9a2923"
      },
      "execution_count": null,
      "outputs": [
        {
          "output_type": "stream",
          "name": "stdout",
          "text": [
            "Confusion Matrix\n",
            "============================================================\n",
            "[[222   3]\n",
            " [  9   1]] \n",
            "\n",
            "Classification Report\n",
            "============================================================\n",
            "              precision    recall  f1-score   support\n",
            "\n",
            "           0       0.96      0.99      0.97       225\n",
            "           1       0.25      0.10      0.14        10\n",
            "\n",
            "    accuracy                           0.95       235\n",
            "   macro avg       0.61      0.54      0.56       235\n",
            "weighted avg       0.93      0.95      0.94       235\n",
            " \n",
            "\n",
            "AUC-ROC\n",
            "============================================================\n",
            "0.8897777777777778\n"
          ]
        }
      ]
    },
    {
      "cell_type": "markdown",
      "source": [
        "# All Scores"
      ],
      "metadata": {
        "id": "Q82wKFv5Wf_b"
      }
    },
    {
      "cell_type": "code",
      "source": [
        "results = pd.concat([score,score2]).sort_values(['f1-score','AUC-ROC'],ascending=False)"
      ],
      "metadata": {
        "colab": {
          "base_uri": "https://localhost:8080/",
          "height": 488
        },
        "id": "PH069wSzO7IW",
        "outputId": "e7e5f5f0-1eb2-4f7e-88de-a4ee0bdc4e34"
      },
      "execution_count": null,
      "outputs": [
        {
          "output_type": "execute_result",
          "data": {
            "text/plain": [
              "  model       resample  precision  recall  f1-score   AUC-ROC\n",
              "3    rf    smote_tomek   0.625000     0.5  0.555556  0.912000\n",
              "1    rf          smote   0.625000     0.5  0.555556  0.880000\n",
              "4    rf      smote_enn   0.461538     0.6  0.521739  0.934667\n",
              "2   xgb            ada   0.500000     0.5  0.500000  0.894222\n",
              "1   xgb          smote   0.454545     0.5  0.476190  0.897333\n",
              "3   xgb    smote_tomek   0.454545     0.5  0.476190  0.897333\n",
              "2    rf         adasyn   0.571429     0.4  0.470588  0.870889\n",
              "4   xgb      smote_enn   0.333333     0.7  0.451613  0.940444\n",
              "6    rf         hybrid   0.304348     0.7  0.424242  0.929333\n",
              "0   xgb         actual   0.357143     0.5  0.416667  0.899556\n",
              "5    rf            rus   0.291667     0.7  0.411765  0.908889\n",
              "6   xgb  smote_hybdrid   0.259259     0.7  0.378378  0.936444\n",
              "5   xgb      smote_rus   0.126984     0.8  0.219178  0.873778\n",
              "0    rf         actual   0.200000     0.1  0.133333  0.872889"
            ],
            "text/html": [
              "\n",
              "  <div id=\"df-8286df02-0bd8-4a8d-9072-c22977c3d37e\">\n",
              "    <div class=\"colab-df-container\">\n",
              "      <div>\n",
              "<style scoped>\n",
              "    .dataframe tbody tr th:only-of-type {\n",
              "        vertical-align: middle;\n",
              "    }\n",
              "\n",
              "    .dataframe tbody tr th {\n",
              "        vertical-align: top;\n",
              "    }\n",
              "\n",
              "    .dataframe thead th {\n",
              "        text-align: right;\n",
              "    }\n",
              "</style>\n",
              "<table border=\"1\" class=\"dataframe\">\n",
              "  <thead>\n",
              "    <tr style=\"text-align: right;\">\n",
              "      <th></th>\n",
              "      <th>model</th>\n",
              "      <th>resample</th>\n",
              "      <th>precision</th>\n",
              "      <th>recall</th>\n",
              "      <th>f1-score</th>\n",
              "      <th>AUC-ROC</th>\n",
              "    </tr>\n",
              "  </thead>\n",
              "  <tbody>\n",
              "    <tr>\n",
              "      <th>3</th>\n",
              "      <td>rf</td>\n",
              "      <td>smote_tomek</td>\n",
              "      <td>0.625000</td>\n",
              "      <td>0.5</td>\n",
              "      <td>0.555556</td>\n",
              "      <td>0.912000</td>\n",
              "    </tr>\n",
              "    <tr>\n",
              "      <th>1</th>\n",
              "      <td>rf</td>\n",
              "      <td>smote</td>\n",
              "      <td>0.625000</td>\n",
              "      <td>0.5</td>\n",
              "      <td>0.555556</td>\n",
              "      <td>0.880000</td>\n",
              "    </tr>\n",
              "    <tr>\n",
              "      <th>4</th>\n",
              "      <td>rf</td>\n",
              "      <td>smote_enn</td>\n",
              "      <td>0.461538</td>\n",
              "      <td>0.6</td>\n",
              "      <td>0.521739</td>\n",
              "      <td>0.934667</td>\n",
              "    </tr>\n",
              "    <tr>\n",
              "      <th>2</th>\n",
              "      <td>xgb</td>\n",
              "      <td>ada</td>\n",
              "      <td>0.500000</td>\n",
              "      <td>0.5</td>\n",
              "      <td>0.500000</td>\n",
              "      <td>0.894222</td>\n",
              "    </tr>\n",
              "    <tr>\n",
              "      <th>1</th>\n",
              "      <td>xgb</td>\n",
              "      <td>smote</td>\n",
              "      <td>0.454545</td>\n",
              "      <td>0.5</td>\n",
              "      <td>0.476190</td>\n",
              "      <td>0.897333</td>\n",
              "    </tr>\n",
              "    <tr>\n",
              "      <th>3</th>\n",
              "      <td>xgb</td>\n",
              "      <td>smote_tomek</td>\n",
              "      <td>0.454545</td>\n",
              "      <td>0.5</td>\n",
              "      <td>0.476190</td>\n",
              "      <td>0.897333</td>\n",
              "    </tr>\n",
              "    <tr>\n",
              "      <th>2</th>\n",
              "      <td>rf</td>\n",
              "      <td>adasyn</td>\n",
              "      <td>0.571429</td>\n",
              "      <td>0.4</td>\n",
              "      <td>0.470588</td>\n",
              "      <td>0.870889</td>\n",
              "    </tr>\n",
              "    <tr>\n",
              "      <th>4</th>\n",
              "      <td>xgb</td>\n",
              "      <td>smote_enn</td>\n",
              "      <td>0.333333</td>\n",
              "      <td>0.7</td>\n",
              "      <td>0.451613</td>\n",
              "      <td>0.940444</td>\n",
              "    </tr>\n",
              "    <tr>\n",
              "      <th>6</th>\n",
              "      <td>rf</td>\n",
              "      <td>hybrid</td>\n",
              "      <td>0.304348</td>\n",
              "      <td>0.7</td>\n",
              "      <td>0.424242</td>\n",
              "      <td>0.929333</td>\n",
              "    </tr>\n",
              "    <tr>\n",
              "      <th>0</th>\n",
              "      <td>xgb</td>\n",
              "      <td>actual</td>\n",
              "      <td>0.357143</td>\n",
              "      <td>0.5</td>\n",
              "      <td>0.416667</td>\n",
              "      <td>0.899556</td>\n",
              "    </tr>\n",
              "    <tr>\n",
              "      <th>5</th>\n",
              "      <td>rf</td>\n",
              "      <td>rus</td>\n",
              "      <td>0.291667</td>\n",
              "      <td>0.7</td>\n",
              "      <td>0.411765</td>\n",
              "      <td>0.908889</td>\n",
              "    </tr>\n",
              "    <tr>\n",
              "      <th>6</th>\n",
              "      <td>xgb</td>\n",
              "      <td>smote_hybdrid</td>\n",
              "      <td>0.259259</td>\n",
              "      <td>0.7</td>\n",
              "      <td>0.378378</td>\n",
              "      <td>0.936444</td>\n",
              "    </tr>\n",
              "    <tr>\n",
              "      <th>5</th>\n",
              "      <td>xgb</td>\n",
              "      <td>smote_rus</td>\n",
              "      <td>0.126984</td>\n",
              "      <td>0.8</td>\n",
              "      <td>0.219178</td>\n",
              "      <td>0.873778</td>\n",
              "    </tr>\n",
              "    <tr>\n",
              "      <th>0</th>\n",
              "      <td>rf</td>\n",
              "      <td>actual</td>\n",
              "      <td>0.200000</td>\n",
              "      <td>0.1</td>\n",
              "      <td>0.133333</td>\n",
              "      <td>0.872889</td>\n",
              "    </tr>\n",
              "  </tbody>\n",
              "</table>\n",
              "</div>\n",
              "      <button class=\"colab-df-convert\" onclick=\"convertToInteractive('df-8286df02-0bd8-4a8d-9072-c22977c3d37e')\"\n",
              "              title=\"Convert this dataframe to an interactive table.\"\n",
              "              style=\"display:none;\">\n",
              "        \n",
              "  <svg xmlns=\"http://www.w3.org/2000/svg\" height=\"24px\"viewBox=\"0 0 24 24\"\n",
              "       width=\"24px\">\n",
              "    <path d=\"M0 0h24v24H0V0z\" fill=\"none\"/>\n",
              "    <path d=\"M18.56 5.44l.94 2.06.94-2.06 2.06-.94-2.06-.94-.94-2.06-.94 2.06-2.06.94zm-11 1L8.5 8.5l.94-2.06 2.06-.94-2.06-.94L8.5 2.5l-.94 2.06-2.06.94zm10 10l.94 2.06.94-2.06 2.06-.94-2.06-.94-.94-2.06-.94 2.06-2.06.94z\"/><path d=\"M17.41 7.96l-1.37-1.37c-.4-.4-.92-.59-1.43-.59-.52 0-1.04.2-1.43.59L10.3 9.45l-7.72 7.72c-.78.78-.78 2.05 0 2.83L4 21.41c.39.39.9.59 1.41.59.51 0 1.02-.2 1.41-.59l7.78-7.78 2.81-2.81c.8-.78.8-2.07 0-2.86zM5.41 20L4 18.59l7.72-7.72 1.47 1.35L5.41 20z\"/>\n",
              "  </svg>\n",
              "      </button>\n",
              "      \n",
              "  <style>\n",
              "    .colab-df-container {\n",
              "      display:flex;\n",
              "      flex-wrap:wrap;\n",
              "      gap: 12px;\n",
              "    }\n",
              "\n",
              "    .colab-df-convert {\n",
              "      background-color: #E8F0FE;\n",
              "      border: none;\n",
              "      border-radius: 50%;\n",
              "      cursor: pointer;\n",
              "      display: none;\n",
              "      fill: #1967D2;\n",
              "      height: 32px;\n",
              "      padding: 0 0 0 0;\n",
              "      width: 32px;\n",
              "    }\n",
              "\n",
              "    .colab-df-convert:hover {\n",
              "      background-color: #E2EBFA;\n",
              "      box-shadow: 0px 1px 2px rgba(60, 64, 67, 0.3), 0px 1px 3px 1px rgba(60, 64, 67, 0.15);\n",
              "      fill: #174EA6;\n",
              "    }\n",
              "\n",
              "    [theme=dark] .colab-df-convert {\n",
              "      background-color: #3B4455;\n",
              "      fill: #D2E3FC;\n",
              "    }\n",
              "\n",
              "    [theme=dark] .colab-df-convert:hover {\n",
              "      background-color: #434B5C;\n",
              "      box-shadow: 0px 1px 3px 1px rgba(0, 0, 0, 0.15);\n",
              "      filter: drop-shadow(0px 1px 2px rgba(0, 0, 0, 0.3));\n",
              "      fill: #FFFFFF;\n",
              "    }\n",
              "  </style>\n",
              "\n",
              "      <script>\n",
              "        const buttonEl =\n",
              "          document.querySelector('#df-8286df02-0bd8-4a8d-9072-c22977c3d37e button.colab-df-convert');\n",
              "        buttonEl.style.display =\n",
              "          google.colab.kernel.accessAllowed ? 'block' : 'none';\n",
              "\n",
              "        async function convertToInteractive(key) {\n",
              "          const element = document.querySelector('#df-8286df02-0bd8-4a8d-9072-c22977c3d37e');\n",
              "          const dataTable =\n",
              "            await google.colab.kernel.invokeFunction('convertToInteractive',\n",
              "                                                     [key], {});\n",
              "          if (!dataTable) return;\n",
              "\n",
              "          const docLinkHtml = 'Like what you see? Visit the ' +\n",
              "            '<a target=\"_blank\" href=https://colab.research.google.com/notebooks/data_table.ipynb>data table notebook</a>'\n",
              "            + ' to learn more about interactive tables.';\n",
              "          element.innerHTML = '';\n",
              "          dataTable['output_type'] = 'display_data';\n",
              "          await google.colab.output.renderOutput(dataTable, element);\n",
              "          const docLink = document.createElement('div');\n",
              "          docLink.innerHTML = docLinkHtml;\n",
              "          element.appendChild(docLink);\n",
              "        }\n",
              "      </script>\n",
              "    </div>\n",
              "  </div>\n",
              "  "
            ]
          },
          "metadata": {},
          "execution_count": 309
        }
      ]
    }
  ]
}